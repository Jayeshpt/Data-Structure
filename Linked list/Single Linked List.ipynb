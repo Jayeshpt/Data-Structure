{
 "cells": [
  {
   "cell_type": "markdown",
   "id": "1bdf7c02-225d-4859-b43e-646b1a13068d",
   "metadata": {
    "tags": []
   },
   "source": [
    "## Single Linked List (Create And Display )"
   ]
  },
  {
   "cell_type": "code",
   "execution_count": 1,
   "id": "de1f89b1-d54e-4667-9694-6fcae4197782",
   "metadata": {},
   "outputs": [],
   "source": [
    "class Node:\n",
    "    def __init__(self,data):\n",
    "        self.data = data\n",
    "        self.next = None # Initially the next node address is None \n",
    "        \n",
    "class SingleLinkedList:\n",
    "    def __init__(self):\n",
    "        self.head = None\n",
    "    \n",
    "    def display(self):\n",
    "        if self.head is None:\n",
    "            print('Linked list is Empty')\n",
    "        # to display the elements\n",
    "        else:\n",
    "            temp=self.head\n",
    "            while temp:\n",
    "                print(temp.data,'-->',end=\" \")\n",
    "                temp=temp.next\n",
    "            \n",
    "L = SingleLinkedList()\n",
    "# creating Node\n",
    "n=Node(10)\n",
    "L.head=n\n",
    "n1 = Node(20)\n",
    "L.head.next=n1\n",
    "n2 = Node(30)\n",
    "n1.next=n2\n",
    "n3 = Node(40)\n",
    "n2.next = n3\n",
    "L.display()"
   ]
  },
  {
   "cell_type": "markdown",
   "id": "5794afb2-63ef-456c-8256-8650cbc20470",
   "metadata": {
    "tags": []
   },
   "source": [
    "## Single Linked list (Insertion)"
   ]
  },
  {
   "cell_type": "code",
   "execution_count": 2,
   "id": "3af2e390-4de7-4022-9b3c-e85794cd6560",
   "metadata": {},
   "outputs": [],
   "source": [
    "class Node:\n",
    "    def __init__(self,data):\n",
    "        self.data=data\n",
    "        self.next=None\n",
    "class SingleLinkedList:\n",
    "    def __init__(self):\n",
    "        self.head=None\n",
    "        \n",
    "#--------------- Insertion at begining ----------------#\n",
    "    def insert_begining(self,data):\n",
    "        nb=Node(data)\n",
    "        nb.next=self.head\n",
    "        self.head=nb\n",
    "        \n",
    "#-------------- Insertion at End ---------------------#\n",
    "    def insertion_end(self,data):\n",
    "        ne=Node(data)\n",
    "        temp=self.head\n",
    "        while temp.next:\n",
    "            temp=temp.next\n",
    "        temp.next=ne\n",
    "        \n",
    "#------------- Insertion at Perticular Postition ------#\n",
    "    def insert_position(self,pos,data):\n",
    "        np=Node(data)\n",
    "        temp=self.head\n",
    "        for i in range(pos-1):\n",
    "            temp=temp.next\n",
    "        np.data=data\n",
    "        np.next=temp.next\n",
    "        temp.next=np\n",
    "        \n",
    "        \n",
    "        \n",
    "    def display(self):\n",
    "        if self.head is None:\n",
    "            print(\"Linked list is empty\")\n",
    "        else:\n",
    "            temp=self.head\n",
    "            while temp:\n",
    "                print(temp.data,'-->',end=' ')\n",
    "                temp=temp.next\n",
    "                \n",
    "L=SingleLinkedList()\n",
    "n=Node(10)\n",
    "L.head=n\n",
    "n1=Node(20)\n",
    "L.head.next=n1\n",
    "n2=Node(30)\n",
    "n1.next=n2\n",
    "n3=Node(40)\n",
    "n2.next=n3\n",
    "n4=Node(50)\n",
    "n3.next=n4\n",
    "\n",
    "L.insert_begining(5)\n",
    "L.insert_begining(3)\n",
    "\n",
    "L.insertion_end(60)\n",
    "L.insertion_end(70)\n",
    "L.insert_position(4,25)\n",
    "L.insert_position(6,35)\n",
    "L.display()\n"
   ]
  },
  {
   "cell_type": "markdown",
   "id": "8a304728-27d7-41e9-a7b9-147a958dcde2",
   "metadata": {},
   "source": [
    "## Deletion "
   ]
  },
  {
   "cell_type": "code",
   "execution_count": 16,
   "id": "9ea9c82b-673f-4da2-849b-ba026eb67e27",
   "metadata": {},
   "outputs": [
    {
     "name": "stdout",
     "output_type": "stream",
     "text": [
      "10 --> 30 --> 40 --> 50 --> "
     ]
    }
   ],
   "source": [
    "class Node:\n",
    "    def __init__(self,data):\n",
    "        self.data = data\n",
    "        self.next = None\n",
    "\n",
    "class singlelinkedlist :\n",
    "    \n",
    "    def __init__(self):\n",
    "        self.head = None\n",
    "        \n",
    "    def display(self):\n",
    "        if self.head is None:\n",
    "            print('empty single linked list')\n",
    "        else:\n",
    "            temp=self.head\n",
    "            while temp:\n",
    "                print(temp.data,\"-->\",end=' ')\n",
    "                temp=temp.next\n",
    "                \n",
    "#------------------- Deletion at beginning --------------------#\n",
    "\n",
    "    def delete_beginning(self):\n",
    "        temp=self.head\n",
    "        self.head=temp.next\n",
    "        temp.next=None\n",
    "\n",
    "#------------------ Deletion at end --------------------------#\n",
    "\n",
    "    def delete_end(self):\n",
    "        prev=self.head\n",
    "        temp=self.head.next\n",
    "        while temp.next is not None:\n",
    "            temp=temp.next\n",
    "            prev=prev.next\n",
    "        prev.next=None\n",
    "        \n",
    "        \n",
    "#------------------ Deletion at specific position ------------#\n",
    "    def delete_pos(self,pos):\n",
    "        prev=self.head\n",
    "        temp=self.head.next\n",
    "        for i in range(1,pos-1):\n",
    "            temp=temp.next\n",
    "            prev=prev.next\n",
    "        prev.next = temp.next\n",
    "        \n",
    "        \n",
    "L=singlelinkedlist()\n",
    "n1=Node(10)\n",
    "L.head=n1\n",
    "n2=Node(20)\n",
    "n1.next=n2\n",
    "n3=Node(30)\n",
    "n2.next=n3\n",
    "n4=Node(40)\n",
    "n3.next=n4\n",
    "n5=Node(50)\n",
    "n4.next=n5\n",
    "\n",
    "# L.delete_beginning()\n",
    "# L.delete_end()\n",
    "L.delete_pos(1)\n",
    "L.display()"
   ]
  },
  {
   "cell_type": "code",
   "execution_count": 3,
   "id": "df2692ac-8dd3-4fb7-ab2a-48a5d6af69df",
   "metadata": {},
   "outputs": [
    {
     "name": "stdin",
     "output_type": "stream",
     "text": [
      "Enter array size 6\n",
      " 3\n",
      " 4\n",
      " 2\n",
      " 7\n",
      " 8\n",
      " 2\n"
     ]
    },
    {
     "name": "stdout",
     "output_type": "stream",
     "text": [
      "Array before sorting [3, 4, 2, 7, 8, 2]\n",
      "Array After sorting [2, 2, 3, 4, 7, 8]\n"
     ]
    }
   ],
   "source": [
    "arr=[]\n",
    "n=int(input('Enter array size'))\n",
    "for i in range(n):\n",
    "    arr.append(int(input()))\n",
    "print('Array before sorting',arr)\n",
    "\n",
    "for i in range(n):\n",
    "    for j in range(i+1,n):\n",
    "        if arr[i]>arr[j]:\n",
    "            temp=arr[j]\n",
    "            arr[j]=arr[i]\n",
    "            arr[i]=temp\n",
    "print('Array After sorting',arr)"
   ]
  },
  {
   "cell_type": "code",
   "execution_count": 8,
   "id": "370bd596-46e1-4547-9f0a-66300a5669be",
   "metadata": {},
   "outputs": [
    {
     "name": "stdin",
     "output_type": "stream",
     "text": [
      "Enter the search element 10\n"
     ]
    },
    {
     "name": "stdout",
     "output_type": "stream",
     "text": [
      "element is not found\n"
     ]
    }
   ],
   "source": [
    "low =0\n",
    "high = n-1\n",
    "mid=1\n",
    "s=int(input(\"Enter the search element\"))\n",
    "while low <= high:\n",
    "    mid=(low+high)//2\n",
    "    if arr[mid]==s:\n",
    "        print(f\"yes. {s} is found at {mid+1} position\")\n",
    "        break\n",
    "    elif arr[mid]>s:\n",
    "        high=mid-1\n",
    "    else:\n",
    "        low=mid+1\n",
    "else:\n",
    "    print(\"element is not found\")\n",
    "        \n",
    "    "
   ]
  },
  {
   "cell_type": "code",
   "execution_count": null,
   "id": "11053283-87b0-45a4-8412-601e31979881",
   "metadata": {},
   "outputs": [],
   "source": []
  },
  {
   "cell_type": "code",
   "execution_count": null,
   "id": "93c7b86f-f958-4dfd-833e-aba8cb4e0ebf",
   "metadata": {},
   "outputs": [],
   "source": []
  }
 ],
 "metadata": {
  "kernelspec": {
   "display_name": "Python 3 (ipykernel)",
   "language": "python",
   "name": "python3"
  },
  "language_info": {
   "codemirror_mode": {
    "name": "ipython",
    "version": 3
   },
   "file_extension": ".py",
   "mimetype": "text/x-python",
   "name": "python",
   "nbconvert_exporter": "python",
   "pygments_lexer": "ipython3",
   "version": "3.9.16"
  }
 },
 "nbformat": 4,
 "nbformat_minor": 5
}
