{
 "cells": [
  {
   "cell_type": "markdown",
   "id": "316a3332-00bb-4576-a7f0-5590d365867a",
   "metadata": {
    "tags": []
   },
   "source": [
    "## Double Linked List"
   ]
  },
  {
   "cell_type": "code",
   "execution_count": 1,
   "id": "dd00eb35-34f5-49b6-900d-9d635c788d2b",
   "metadata": {},
   "outputs": [
    {
     "name": "stdout",
     "output_type": "stream",
     "text": [
      "10 --> 20 --> 30 --> 40 --> 50 --> "
     ]
    }
   ],
   "source": [
    "class Node:\n",
    "    def __init__(self,data):\n",
    "        self.data=data\n",
    "        self.prev=None\n",
    "        self.next=None\n",
    "        \n",
    "class DoubleLinkedList:\n",
    "    \n",
    "    def __init__(self):\n",
    "        self.head=None # initially no elements so ,its None\n",
    "        \n",
    "    def Display(self):\n",
    "        if self.head is None:\n",
    "            print('empty Double Linked list')\n",
    "        else:\n",
    "            temp=self.head\n",
    "            while temp:\n",
    "                print(temp.data,'-->',end=' ')\n",
    "                temp=temp.next\n",
    "        \n",
    "            \n",
    "L = DoubleLinkedList()\n",
    "\n",
    "n1=Node(10)\n",
    "L.head=n1\n",
    "\n",
    "n2=Node(20)\n",
    "n2.prev=n1\n",
    "n1.next=n2\n",
    "\n",
    "n3=Node(30)\n",
    "n3.prev=n2\n",
    "n2.next=n3\n",
    "\n",
    "n4=Node(40)\n",
    "n4.prev=n3\n",
    "n3.next=n4\n",
    "\n",
    "n5=Node(50)\n",
    "n5.prev=n4\n",
    "n4.next=n5\n",
    "\n",
    "L.Display()"
   ]
  },
  {
   "cell_type": "markdown",
   "id": "359f4b96-5d63-46db-a0fc-b5ad1b5e35f6",
   "metadata": {},
   "source": [
    "## Insertion "
   ]
  },
  {
   "cell_type": "code",
   "execution_count": 11,
   "id": "1d85301d-468f-406d-8ce1-3705c4b7d30b",
   "metadata": {},
   "outputs": [
    {
     "name": "stdout",
     "output_type": "stream",
     "text": [
      "10 --> 20 --> 25 --> 30 --> 40 --> 50 --> "
     ]
    }
   ],
   "source": [
    "class Node:\n",
    "    def __init__(self,data):\n",
    "        self.data=data\n",
    "        self.prev=None\n",
    "        self.next=None\n",
    "class DLL:\n",
    "    def __init__(self):\n",
    "        self.head=None\n",
    "        \n",
    "    def Display(self):\n",
    "        if self.head is None:\n",
    "            print('DLL is empty')\n",
    "        else:\n",
    "            temp= self.head\n",
    "            while temp:\n",
    "                print(temp.data,'-->',end=\" \")\n",
    "                temp=temp.next\n",
    "                \n",
    "                \n",
    "    def insertion_beg(self,data):\n",
    "        n=Node(data)\n",
    "        temp=self.head\n",
    "        temp.prev=n\n",
    "        n.next=temp\n",
    "        self.head=n\n",
    "        \n",
    "    def insertion_end(self,data):\n",
    "        n=Node(data)\n",
    "        temp=self.head\n",
    "        while temp.next is not None:\n",
    "            temp=temp.next\n",
    "        n.prev=temp\n",
    "        temp.next=n\n",
    "        \n",
    "    def insertion_pos(self,pos,data):\n",
    "        n=Node(data)\n",
    "        temp=self.head\n",
    "        for i in range(1,pos-1):\n",
    "            temp=temp.next\n",
    "        n.prev=temp\n",
    "        n.next=temp.next\n",
    "        temp.next.prev=n\n",
    "        temp.next=n\n",
    "        \n",
    "\n",
    "    \n",
    "\n",
    "    \n",
    "L = DLL()\n",
    "n=Node(10)\n",
    "L.head=n\n",
    "\n",
    "n1=Node(20)\n",
    "n1.prev=n\n",
    "n.next=n1\n",
    "\n",
    "n2=Node(30)\n",
    "n2.prev=n1\n",
    "n1.next=n2\n",
    "\n",
    "n3=Node(40)\n",
    "n3.prev=n2\n",
    "n2.next=n3\n",
    "\n",
    "n4=Node(50)\n",
    "n4.prev=n3\n",
    "n3.next=n4\n",
    "# L.insertion_beg(5)\n",
    "# L.insertion_end(55)\n",
    "L.insertion_pos(3,25)\n",
    "L.Display()"
   ]
  },
  {
   "cell_type": "markdown",
   "id": "8cbab2fa-f7e7-4e44-ada3-fc3b8d69fc00",
   "metadata": {},
   "source": [
    "## Deletion"
   ]
  },
  {
   "cell_type": "code",
   "execution_count": 7,
   "id": "f66b73f8-9c44-405f-beba-2ab7129d07dc",
   "metadata": {},
   "outputs": [
    {
     "name": "stdout",
     "output_type": "stream",
     "text": [
      "10 --> 20 --> 40 --> 50 --> "
     ]
    }
   ],
   "source": [
    "class Node:\n",
    "    def __init__(self,data):\n",
    "        self.data=data\n",
    "        self.prev=None\n",
    "        self.next=None\n",
    "class DLL:\n",
    "    def __init__(self):\n",
    "        self.head=None\n",
    "        \n",
    "    def Display(self):\n",
    "        if self.head is None:\n",
    "            print('DLL is empty')\n",
    "        else:\n",
    "            temp= self.head\n",
    "            while temp:\n",
    "                print(temp.data,'-->',end=\" \")\n",
    "                temp=temp.next\n",
    "                \n",
    "#------------------- Deletion at beginning --------------------#                \n",
    "    def Deletion_beg(self):\n",
    "        temp=self.head\n",
    "        self.head=temp.next\n",
    "        temp.next=None\n",
    "        self.head.prev=None\n",
    "#------------------- Deletion at end -------------------------#        \n",
    "    def Deletion_end(self):\n",
    "        temp=self.head.next\n",
    "        sndlast=self.head\n",
    "        while temp.next is not None:\n",
    "            temp=temp.next\n",
    "            sndlast=sndlast.next\n",
    "        sndlast.next=None\n",
    "        temp.prev=None\n",
    "        \n",
    "#------------------ Deletion at specific Position ------------#\n",
    "    def Deletion_pos(self,pos):\n",
    "        temp=self.head.next\n",
    "        sndlast=self.head\n",
    "        for i in range(1,pos-1):\n",
    "            temp=temp.next\n",
    "            sndlast=sndlast.next\n",
    "        sndlast.next=temp.next\n",
    "        temp.next.prev=sndlast\n",
    "        temp.prev=None\n",
    "        temp.next=None\n",
    "        \n",
    "        \n",
    "L = DLL()\n",
    "n=Node(10)\n",
    "L.head=n\n",
    "\n",
    "n1=Node(20)\n",
    "n1.prev=n\n",
    "n.next=n1\n",
    "\n",
    "n2=Node(30)\n",
    "n2.prev=n1\n",
    "n1.next=n2\n",
    "\n",
    "n3=Node(40)\n",
    "n3.prev=n2\n",
    "n2.next=n3\n",
    "\n",
    "n4=Node(50)\n",
    "n4.prev=n3\n",
    "n3.next=n4\n",
    "# L.Deletion_beg()\n",
    "# L.Deletion_end()\n",
    "L.Deletion_pos(3)\n",
    "L.Display()"
   ]
  },
  {
   "cell_type": "code",
   "execution_count": null,
   "id": "8e52e340-8247-4362-95d0-258cc922bc53",
   "metadata": {},
   "outputs": [],
   "source": []
  }
 ],
 "metadata": {
  "kernelspec": {
   "display_name": "Python 3 (ipykernel)",
   "language": "python",
   "name": "python3"
  },
  "language_info": {
   "codemirror_mode": {
    "name": "ipython",
    "version": 3
   },
   "file_extension": ".py",
   "mimetype": "text/x-python",
   "name": "python",
   "nbconvert_exporter": "python",
   "pygments_lexer": "ipython3",
   "version": "3.9.16"
  }
 },
 "nbformat": 4,
 "nbformat_minor": 5
}
