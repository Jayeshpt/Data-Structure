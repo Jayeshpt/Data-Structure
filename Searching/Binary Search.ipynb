{
 "cells": [
  {
   "cell_type": "raw",
   "id": "b5d3ef2f-fd01-49e9-ba2c-09d91795140a",
   "metadata": {},
   "source": []
  },
  {
   "cell_type": "code",
   "execution_count": null,
   "id": "00a386ba-2309-46f2-9557-ae25cd4fa26d",
   "metadata": {},
   "outputs": [],
   "source": [
    " l = []\n",
    "n = int(input('Enter number of elements to be inserted: '))\n",
    "for i in range(n):\n",
    "    l.append(int(input()))\n",
    "l.sort()\n",
    "print(l)\n",
    "\n",
    "s = int(input(\"Enter search element: \"))\n",
    "low = 0\n",
    "high = len(l) - 1\n",
    "mid = 0\n",
    "while low <= high:\n",
    "    print(low,high)\n",
    "    mid = (low + high) // 2\n",
    "    if l[mid] == s:\n",
    "        print(f'Yes, the element {s} is in the list at position {mid+1}')\n",
    "        break\n",
    "    elif l[mid] > s:\n",
    "        high = mid - 1\n",
    "    else:\n",
    "        low = mid + 1\n",
    "else:\n",
    "    \n",
    "    print(f'Element {s} is not found')\n"
   ]
  },
  {
   "cell_type": "code",
   "execution_count": null,
   "id": "6456423f-44cc-4f8b-b269-b078572689b9",
   "metadata": {},
   "outputs": [],
   "source": [
    "n=int(input(\"Enter array size\"))\n",
    "l=[]\n",
    "for i in range(n):\n",
    "    l.append(int(input()))\n",
    "print('List before sorting',l)\n",
    "for j in range(n):\n",
    "    for k in range(n):\n",
    "        if l[j]<l[k]:\n",
    "            temp=l[k]\n",
    "            l[k]=l[j]\n",
    "            l[j]=temp\n",
    "print('List After sorting',l)\n",
    "s = int(input('enter search element'))\n",
    "low = 0\n",
    "high = n-1\n",
    "mid = 0\n",
    "\n",
    "while low<=high:\n",
    "    mid=(low+high)//2\n",
    "    if l[mid] == s:\n",
    "        print(f'true at position {mid+1}')\n",
    "        break\n",
    "    elif l[mid]>s:\n",
    "        high=mid-1\n",
    "    else:\n",
    "        low=mid+1\n",
    "else:\n",
    "    print('element not found')"
   ]
  },
  {
   "cell_type": "code",
   "execution_count": null,
   "id": "5ad9357b-9e20-429d-99d4-000d0b42f6f5",
   "metadata": {},
   "outputs": [],
   "source": [
    "arr = [3,25,67,88,44,77]\n",
    "print(\"array before sort\",arr)\n",
    "arr.sort()\n",
    "print('array after sort',arr)\n",
    "s=1\n",
    "low = 0\n",
    "high = len(arr)-1\n",
    "mid = 0\n",
    "\n",
    "while low <= high:\n",
    "    mid = (low + high )//2\n",
    "    if mid == s:\n",
    "        print ('element is found')\n",
    "        break\n",
    "    elif mid> s:\n",
    "        high = mid-1\n",
    "    else:\n",
    "        low = mid +1\n",
    "else:\n",
    "    print(\"element is not found\")"
   ]
  },
  {
   "cell_type": "code",
   "execution_count": null,
   "id": "fc5182ac-95bd-412b-9ad7-dbf6b2deb12b",
   "metadata": {},
   "outputs": [],
   "source": []
  }
 ],
 "metadata": {
  "kernelspec": {
   "display_name": "Python 3 (ipykernel)",
   "language": "python",
   "name": "python3"
  },
  "language_info": {
   "codemirror_mode": {
    "name": "ipython",
    "version": 3
   },
   "file_extension": ".py",
   "mimetype": "text/x-python",
   "name": "python",
   "nbconvert_exporter": "python",
   "pygments_lexer": "ipython3",
   "version": "3.9.16"
  }
 },
 "nbformat": 4,
 "nbformat_minor": 5
}
