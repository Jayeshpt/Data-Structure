{
 "cells": [
  {
   "cell_type": "markdown",
   "id": "909df341-7de4-4541-bb47-0f97562044c6",
   "metadata": {},
   "source": [
    "## Linear Search"
   ]
  },
  {
   "cell_type": "code",
   "execution_count": 11,
   "id": "918c9ed0-e900-4511-97b6-894c93bc7b98",
   "metadata": {},
   "outputs": [
    {
     "name": "stdin",
     "output_type": "stream",
     "text": [
      "Enter the size of list 5\n"
     ]
    },
    {
     "name": "stdout",
     "output_type": "stream",
     "text": [
      "enter the elements in the list\n"
     ]
    },
    {
     "name": "stdin",
     "output_type": "stream",
     "text": [
      " 1\n",
      " 2\n",
      " 3\n",
      " 4\n",
      " 5\n"
     ]
    },
    {
     "name": "stdout",
     "output_type": "stream",
     "text": [
      "[1, 2, 3, 4, 5]\n"
     ]
    },
    {
     "name": "stdin",
     "output_type": "stream",
     "text": [
      "enter the search element 2\n"
     ]
    },
    {
     "name": "stdout",
     "output_type": "stream",
     "text": [
      "yes. 2 is in the list\n"
     ]
    }
   ],
   "source": [
    "l=[]\n",
    "cont=0\n",
    "n=int(input('Enter the size of list'))\n",
    "print('enter the elements in the list')\n",
    "for i in range(n):\n",
    "    # a=int(input())\n",
    "    # l.append(a)\n",
    "    l.append(int(input()))\n",
    "print(l)\n",
    "element=int(input('enter the search element'))\n",
    "for j in range(n):\n",
    "    if l[j]==element:\n",
    "        cont+=1\n",
    "        print(f'yes. {element} is in the list')\n",
    "        break    \n",
    "else:\n",
    "    print(f'Sorry. {element} is not in list')\n",
    "    "
   ]
  },
  {
   "cell_type": "code",
   "execution_count": null,
   "id": "763066d8-7f17-4c4d-8c96-a83c4e878cf9",
   "metadata": {},
   "outputs": [],
   "source": []
  }
 ],
 "metadata": {
  "kernelspec": {
   "display_name": "Python 3 (ipykernel)",
   "language": "python",
   "name": "python3"
  },
  "language_info": {
   "codemirror_mode": {
    "name": "ipython",
    "version": 3
   },
   "file_extension": ".py",
   "mimetype": "text/x-python",
   "name": "python",
   "nbconvert_exporter": "python",
   "pygments_lexer": "ipython3",
   "version": "3.9.16"
  }
 },
 "nbformat": 4,
 "nbformat_minor": 5
}
