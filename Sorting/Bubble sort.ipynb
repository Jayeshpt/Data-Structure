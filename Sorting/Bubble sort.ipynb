{
 "cells": [
  {
   "cell_type": "markdown",
   "id": "beb264f4-da93-4f38-a59b-a5211a360f20",
   "metadata": {},
   "source": [
    "## Normal Sorting"
   ]
  },
  {
   "cell_type": "code",
   "execution_count": 5,
   "id": "b912ee27-520f-4ba6-a0cd-e4e556f7477b",
   "metadata": {},
   "outputs": [
    {
     "name": "stdout",
     "output_type": "stream",
     "text": [
      "[1, 2, 4, 7, 8, 22, 33, 38]\n"
     ]
    }
   ],
   "source": [
    "arr = [22,4,1,2,7,38,8,33]\n",
    "n=len(arr)\n",
    "\n",
    "for i in range(n):\n",
    "    for j in range(i+1,n):\n",
    "        if arr[i]>arr[j]:\n",
    "            temp=arr[i]\n",
    "            arr[i]=arr[j]\n",
    "            arr[j]=temp\n",
    "            \n",
    "print(arr)\n",
    "        "
   ]
  },
  {
   "cell_type": "markdown",
   "id": "05a9e525-a596-4483-999c-f4ddb1f78060",
   "metadata": {
    "tags": []
   },
   "source": [
    "## Bubble sort"
   ]
  },
  {
   "cell_type": "code",
   "execution_count": 10,
   "id": "cb2d51af-d9cf-4865-ae63-fa5e60689f82",
   "metadata": {},
   "outputs": [],
   "source": [
    "def bubble_sort(elements):\n",
    "    size = len(elements)\n",
    "    for i in range(size-1):\n",
    "        swapped = False\n",
    "        for j in range(size-1-i):\n",
    "            if elements[j] > elements[j+1]:\n",
    "                temp=element[j]\n",
    "                element[j]=element[j+1]\n",
    "                element[j+1]=temp\n",
    "                swapped=True\n",
    "        if not swapped:\n",
    "            break            "
   ]
  },
  {
   "cell_type": "code",
   "execution_count": 12,
   "id": "fbe3ce09-a8e7-4594-b93b-93d3d44264ff",
   "metadata": {},
   "outputs": [
    {
     "name": "stdout",
     "output_type": "stream",
     "text": [
      "0\n",
      "1\n",
      "2\n",
      "3\n",
      "[3, 7, 33, 77, 99]\n"
     ]
    }
   ],
   "source": [
    "element=[99,33,77,3,7]\n",
    "bubble_sort(element)\n",
    "print(element)"
   ]
  },
  {
   "cell_type": "code",
   "execution_count": 15,
   "id": "60895c86-c7e3-4b8a-a2ce-c00eed7bb239",
   "metadata": {},
   "outputs": [
    {
     "name": "stdout",
     "output_type": "stream",
     "text": [
      "0\n",
      "1\n",
      "2\n",
      "3\n",
      "4\n",
      "[1, 2, 3, 4, 5, 6]\n"
     ]
    }
   ],
   "source": [
    "def bubblee_sort(elements):\n",
    "    size=len(elements)\n",
    "    for i in range(size-1):\n",
    "        print(i)\n",
    "        for j in range(size-1-i):\n",
    "            swapped = False\n",
    "            if elements[j]>elements[j+1]:\n",
    "                    temp=elements[j]\n",
    "                    elements[j]=elements[j+1]\n",
    "                    elements[j+1]=temp\n",
    "                    swapped=True\n",
    "            \n",
    "        if not swapped:\n",
    "            break\n",
    "elements=[1,2,3,4,5,6]\n",
    "bubblee_sort(elements)\n",
    "print(elements)"
   ]
  },
  {
   "cell_type": "code",
   "execution_count": 17,
   "id": "7c14544e-27d9-4903-92ed-69e2274c0a4c",
   "metadata": {},
   "outputs": [
    {
     "name": "stdout",
     "output_type": "stream",
     "text": [
      "0\n",
      "1\n",
      "2\n",
      "['aagnai', 'ameen', 'hisham', 'jayesh']\n"
     ]
    }
   ],
   "source": [
    "elements=['jayesh','hisham','ameen','aagnai']\n",
    "bubblee_sort(elements)\n",
    "print(elements)"
   ]
  },
  {
   "cell_type": "markdown",
   "id": "444ec05b-3684-4397-8a61-fa9d07b73f27",
   "metadata": {},
   "source": [
    "## Bubble sorting in Dictionary"
   ]
  },
  {
   "cell_type": "code",
   "execution_count": 21,
   "id": "a5b779f6-5387-424e-a4b9-54a3e851dd83",
   "metadata": {},
   "outputs": [
    {
     "data": {
      "text/plain": [
       "[{'name': 'kathy', 'transaction_amount': 200, 'device': 'vivo'},\n",
       " {'name': 'dhaval', 'transaction_amount': 400, 'device': 'google pixel'},\n",
       " {'name': 'aamir', 'transaction_amount': 800, 'device': 'iphone-8'},\n",
       " {'name': 'mona', 'transaction_amount': 1000, 'device': 'iphone-10'}]"
      ]
     },
     "execution_count": 21,
     "metadata": {},
     "output_type": "execute_result"
    }
   ],
   "source": [
    "def bubble_sort_dic(data,key=None):\n",
    "    size=len(data)\n",
    "    for i in range(size-1):\n",
    "        swapped=False\n",
    "        for j in range(size-1-i):\n",
    "            a=data[j][key]\n",
    "            b=data[j+1][key]\n",
    "            if a>b:\n",
    "                temp=data[j]\n",
    "                data[j]=data[j+1]\n",
    "                data[j+1]=temp\n",
    "                swapped=True\n",
    "        if not swapped:\n",
    "            break\n",
    "data= [\n",
    "        { 'name': 'mona',   'transaction_amount': 1000, 'device': 'iphone-10'},\n",
    "        { 'name': 'dhaval', 'transaction_amount': 400,  'device': 'google pixel'},\n",
    "        { 'name': 'kathy',  'transaction_amount': 200,  'device': 'vivo'},\n",
    "        { 'name': 'aamir',  'transaction_amount': 800,  'device': 'iphone-8'},\n",
    "    ]\n",
    "bubble_sort_dic(data,key='transaction_amount')\n",
    "data\n",
    "                \n",
    "            "
   ]
  },
  {
   "cell_type": "code",
   "execution_count": null,
   "id": "8285a440-d22e-409e-92e9-052f96fc4e6a",
   "metadata": {},
   "outputs": [],
   "source": []
  }
 ],
 "metadata": {
  "kernelspec": {
   "display_name": "Python 3 (ipykernel)",
   "language": "python",
   "name": "python3"
  },
  "language_info": {
   "codemirror_mode": {
    "name": "ipython",
    "version": 3
   },
   "file_extension": ".py",
   "mimetype": "text/x-python",
   "name": "python",
   "nbconvert_exporter": "python",
   "pygments_lexer": "ipython3",
   "version": "3.9.16"
  }
 },
 "nbformat": 4,
 "nbformat_minor": 5
}
