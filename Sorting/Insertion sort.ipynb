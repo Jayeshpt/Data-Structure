{
 "cells": [
  {
   "cell_type": "markdown",
   "id": "3958044b-e1d3-4c65-9179-579c2149c671",
   "metadata": {},
   "source": [
    "## Insertion Sort"
   ]
  },
  {
   "cell_type": "code",
   "execution_count": 21,
   "id": "8ad895af-bc59-4379-8aa0-6833fbf17f2d",
   "metadata": {},
   "outputs": [
    {
     "name": "stdout",
     "output_type": "stream",
     "text": [
      "[3, 24, 56, 72, 73, 673]\n"
     ]
    }
   ],
   "source": [
    "def insertion_sort(elements):\n",
    "    for i in range(1,len(elements)):\n",
    "        anchor = elements[i]\n",
    "        j=i-1\n",
    "        while j>=0 and anchor<elements[j]:\n",
    "            elements[j+1]=elements[j]\n",
    "            j=j-1\n",
    "        elements[j+1]=anchor\n",
    "        \n",
    "        \n",
    "elements=[3,56,73,72,24,673]\n",
    "insertion_sort(elements)\n",
    "print(elements)"
   ]
  },
  {
   "cell_type": "code",
   "execution_count": 24,
   "id": "4e001ec0-d50e-4ed6-ae0a-231e3eea7864",
   "metadata": {},
   "outputs": [
    {
     "name": "stdout",
     "output_type": "stream",
     "text": [
      "[13, 43, 51, 61, 436]\n"
     ]
    }
   ],
   "source": [
    "def insertion_sort(elements):\n",
    "    for i in range(1,len(elements)):\n",
    "        anchor=elements[i]\n",
    "        j=i-1\n",
    "        while j>=0 and anchor<elements[j]:\n",
    "            elements[j+1]=elements[j]\n",
    "            j=j-1\n",
    "        elements[j+1]=anchor\n",
    "        \n",
    "elements=[13,51,436,43,61]\n",
    "\n",
    "insertion_sort(elements)\n",
    "print(elements)\n",
    "        "
   ]
  },
  {
   "cell_type": "code",
   "execution_count": null,
   "id": "3298133d-5b68-4d61-97ca-cfa93a2a3da4",
   "metadata": {},
   "outputs": [],
   "source": []
  }
 ],
 "metadata": {
  "kernelspec": {
   "display_name": "Python 3 (ipykernel)",
   "language": "python",
   "name": "python3"
  },
  "language_info": {
   "codemirror_mode": {
    "name": "ipython",
    "version": 3
   },
   "file_extension": ".py",
   "mimetype": "text/x-python",
   "name": "python",
   "nbconvert_exporter": "python",
   "pygments_lexer": "ipython3",
   "version": "3.9.16"
  }
 },
 "nbformat": 4,
 "nbformat_minor": 5
}
