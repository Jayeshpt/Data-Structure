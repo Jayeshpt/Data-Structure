{
 "cells": [
  {
   "cell_type": "code",
   "execution_count": 4,
   "id": "cb978db0-270f-4c9d-97eb-dc559817ca74",
   "metadata": {},
   "outputs": [
    {
     "name": "stdout",
     "output_type": "stream",
     "text": [
      "2\n"
     ]
    }
   ],
   "source": [
    "def find_minimum(arr):\n",
    "    if  arr[0]<arr[1]:\n",
    "        min=arr[0]\n",
    "    else:\n",
    "        min= arr[1]\n",
    "    for i in range(len(arr)):\n",
    "        if arr[i] < min:\n",
    "            min =arr[i]\n",
    "    print(min)\n",
    "        \n",
    "    \n",
    "arr=[4,2,6,8,9]\n",
    "find_minimum(arr)"
   ]
  },
  {
   "cell_type": "code",
   "execution_count": 18,
   "id": "fc06ad03-c084-4c50-88cf-412cb7006c34",
   "metadata": {},
   "outputs": [
    {
     "name": "stdout",
     "output_type": "stream",
     "text": [
      "[3, 4, 27, 626, 5753]\n"
     ]
    }
   ],
   "source": [
    "def selection_sort(arr):\n",
    "    size=len(arr)\n",
    "    for i in range(size):\n",
    "        min_index=i\n",
    "        for j in range(min_index+1,size):\n",
    "            if arr[j]<arr[min_index]:\n",
    "                min_index=j\n",
    "        arr[i],arr[min_index]=arr[min_index],arr[i]\n",
    "        \n",
    "arr=[3,4,626,27,5753]\n",
    "selection_sort(arr)\n",
    "print(arr)"
   ]
  },
  {
   "cell_type": "code",
   "execution_count": null,
   "id": "cf59d9ab-8bf5-45fe-b539-dda28677e20d",
   "metadata": {},
   "outputs": [],
   "source": []
  },
  {
   "cell_type": "code",
   "execution_count": null,
   "id": "7efd703b-a7ad-4d6c-a285-797ba37038ef",
   "metadata": {},
   "outputs": [],
   "source": []
  },
  {
   "cell_type": "code",
   "execution_count": null,
   "id": "050a7e08-792f-4032-a971-ae96841986f0",
   "metadata": {},
   "outputs": [],
   "source": []
  }
 ],
 "metadata": {
  "kernelspec": {
   "display_name": "Python 3 (ipykernel)",
   "language": "python",
   "name": "python3"
  },
  "language_info": {
   "codemirror_mode": {
    "name": "ipython",
    "version": 3
   },
   "file_extension": ".py",
   "mimetype": "text/x-python",
   "name": "python",
   "nbconvert_exporter": "python",
   "pygments_lexer": "ipython3",
   "version": "3.9.16"
  }
 },
 "nbformat": 4,
 "nbformat_minor": 5
}
