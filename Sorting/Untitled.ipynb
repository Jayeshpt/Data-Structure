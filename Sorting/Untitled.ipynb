{
 "cells": [
  {
   "cell_type": "code",
   "execution_count": 1,
   "id": "349666b2-6420-4ca8-99eb-f90cc196258e",
   "metadata": {},
   "outputs": [],
   "source": [
    "def selection_sort(elements):\n",
    "    n = len(elements)\n",
    "    for i in range(n):\n",
    "        min_index=i\n",
    "        for j in range(min_index+1,n):\n",
    "            if elements[j]<elements[min_index]:\n",
    "                min_index=j\n",
    "        elements[i],elements[min_index]=elements[min_index],elements[i]\n",
    "        \n",
    "\n",
    "                "
   ]
  },
  {
   "cell_type": "code",
   "execution_count": 3,
   "id": "d6189bb2-62b2-46fb-a913-8b7ec271b7b6",
   "metadata": {},
   "outputs": [
    {
     "name": "stdout",
     "output_type": "stream",
     "text": [
      "[1, 5, 13, 46, 61]\n"
     ]
    }
   ],
   "source": [
    "def insertion_sort(elements):\n",
    "    size=len(elements)\n",
    "    for i in range(1,size):\n",
    "        anchor=elements[i]\n",
    "        j=i-1\n",
    "        while j>=0 and anchor<elements[j]:\n",
    "            elements[j+1]=elements[j]\n",
    "            j=j-1\n",
    "        elements[j+1]=anchor\n",
    "        \n",
    "        \n",
    "elements=[13,1,5,61,46]\n",
    "insertion_sort(elements)\n",
    "print(elements)\n",
    "            \n",
    "        \n",
    "        "
   ]
  },
  {
   "cell_type": "code",
   "execution_count": null,
   "id": "5f367ab8-5a73-40f2-bdc2-71fd5629b495",
   "metadata": {},
   "outputs": [],
   "source": []
  },
  {
   "cell_type": "code",
   "execution_count": 1,
   "id": "d273d665-96ed-4f62-895f-7bd7a7eac164",
   "metadata": {},
   "outputs": [],
   "source": [
    "def bubblesort(arr):\n",
    "    size = len(arr)\n",
    "    for i in range(size-1):\n",
    "        swapped = False\n",
    "        for j in range(size-1-i):\n",
    "            if arr[j]<arr[j+1]:\n",
    "                arr[j],arr[j+1]=a[j+1],arr[j]\n",
    "                swapped = True    \n",
    "        if not swapped:\n",
    "            break\n",
    "                "
   ]
  },
  {
   "cell_type": "code",
   "execution_count": 3,
   "id": "5665d2fb-4088-4179-8200-aa5b424ac198",
   "metadata": {},
   "outputs": [],
   "source": [
    "def insertion_sort(arr):\n",
    "    size= len(arr)\n",
    "    for i in range(1,size):\n",
    "        anchor = arr[i]\n",
    "        j=i-1\n",
    "        while j>=0 and anchor<arr[j]:\n",
    "            arr[j+1]=arr[j]\n",
    "            j=j-1\n",
    "        arr[j+1]=anchor\n",
    "            \n",
    "        \n",
    "    \n",
    "    "
   ]
  },
  {
   "cell_type": "code",
   "execution_count": 4,
   "id": "20d3713c-85ab-4f66-9349-70f597f6ce6e",
   "metadata": {},
   "outputs": [],
   "source": [
    "def selectionsort(arr):\n",
    "    size = len(arr)\n",
    "    for i in range(size):\n",
    "        min_index = i\n",
    "        for j in range(min_index+1,size):\n",
    "            if arr[j]<arr[min_index]:\n",
    "                min_index=j\n",
    "        arr[i],arr[min_index]=arr[min_index],arr[i]\n",
    "        \n",
    "                \n",
    "    "
   ]
  },
  {
   "cell_type": "code",
   "execution_count": 5,
   "id": "5cb66307-e1a3-44ee-93af-c0aa9841fe8a",
   "metadata": {},
   "outputs": [],
   "source": [
    "def quicksort(arr):\n",
    "    length = len(arr)\n",
    "    if length<=1:\n",
    "        return arr\n",
    "    else:\n",
    "        pivot = arr.pop()\n",
    "    \n",
    "    left_arr=[]\n",
    "    right_arr=[]\n",
    "    \n",
    "    for item in arr:\n",
    "        if item < pivot:\n",
    "            item.append(left_arr)\n",
    "        else:\n",
    "            item.append(right_arr)\n",
    "    return quicksort(left_arr)+[pivot]+quicksort(right_arr)\n",
    "        \n",
    "    \n",
    "        "
   ]
  },
  {
   "cell_type": "code",
   "execution_count": 6,
   "id": "2ce65898-c4f6-441c-8d6c-1162689a436f",
   "metadata": {},
   "outputs": [],
   "source": [
    "def mergesort(arr):\n",
    "    length= len(arr)\n",
    "    \n",
    "    if length>1:\n",
    "        left_arr=arr[:length//2]\n",
    "        right_arr=arr[length//2:]\n",
    "        \n",
    "        mergesort(left_arr)\n",
    "        mergesort(right_arr)\n",
    "        \n",
    "        \n",
    "        i=0\n",
    "        j=0\n",
    "        k=0\n",
    "        \n",
    "        while i<len(left_arr) and j<len(right_arr):\n",
    "            if left_arr[i]<right_arr[j]:\n",
    "                arr[k]=left_arr[i]\n",
    "                i+=1\n",
    "            else:\n",
    "                arr[k]=right_arr[j]\n",
    "                j+=1\n",
    "            k+=1\n",
    "            \n",
    "        while i<len(left_arr):\n",
    "            arr[k]=left_arr[i]\n",
    "            i+=1\n",
    "            K+=1\n",
    "        while j<len(right_arr):\n",
    "            arr[k]=right_arr[j]\n",
    "            j+=1\n",
    "            k+=1\n",
    "            \n",
    "    return arr\n",
    "        "
   ]
  },
  {
   "cell_type": "code",
   "execution_count": 7,
   "id": "3ce54c32-544f-49ac-8048-e5b37312c97d",
   "metadata": {},
   "outputs": [],
   "source": [
    "def bubblesort(arr):\n",
    "    size = len(arr)\n",
    "    for i in range(size-1):\n",
    "        swapped = False\n",
    "        for j in range(size-i-1):\n",
    "            if arr[j]<arr[j+1]:\n",
    "                arr[j],arr[j+1]=arr[j+1],arr[j]\n",
    "                swapped = True\n",
    "        if not swapped:\n",
    "            break"
   ]
  },
  {
   "cell_type": "code",
   "execution_count": 8,
   "id": "1ffd5c11-4f67-4ed8-8d86-e99d2e8ba1f4",
   "metadata": {},
   "outputs": [],
   "source": [
    "def insertionsort(arr):\n",
    "    size = len(arr)\n",
    "    for i in range(1,size):\n",
    "        anchor = arr[i]\n",
    "        j=i-1\n",
    "        while J>=0 and anchor<arr[j]:\n",
    "            arr[j+1]=arr[j]\n",
    "            j+=1\n",
    "        arr[j+1]=anchor"
   ]
  },
  {
   "cell_type": "code",
   "execution_count": 9,
   "id": "10e27a56-358d-49a8-819d-4771acdd2d8e",
   "metadata": {},
   "outputs": [],
   "source": [
    "def selectionsort(arr):\n",
    "    for i in range(size):\n",
    "        min_index=i\n",
    "        for j in range(min_index+1,size):\n",
    "            if arr[j]<arr[min_index]:\n",
    "                min_index=j\n",
    "        arr[i],arr[min_index]=arr[min_index],arr[i]"
   ]
  },
  {
   "cell_type": "code",
   "execution_count": 11,
   "id": "7b1ce5f9-4d28-432d-83d1-5ae1905a4314",
   "metadata": {},
   "outputs": [],
   "source": [
    "def quicksort(arr):\n",
    "    length=len(arr)\n",
    "    if length<=1:\n",
    "        return arr\n",
    "    else:\n",
    "        pivot=arr.pop()\n",
    "        \n",
    "        left_arr=[]\n",
    "        right_arr=[]\n",
    "        \n",
    "        for item in arr:\n",
    "            if item<pivot:\n",
    "                left_arr.append(item)\n",
    "            else:\n",
    "                right_arr.append(item)\n",
    "        return quicksort(left_arr)+[pivot]+quicksort(right_arr)"
   ]
  },
  {
   "cell_type": "code",
   "execution_count": 12,
   "id": "113add86-9eb2-41e0-bb5b-4dcecbc17364",
   "metadata": {},
   "outputs": [],
   "source": [
    "def mergesort(arr):\n",
    "    length = len(arr)\n",
    "    if length>1:\n",
    "        left_arr=arr[:length//2]\n",
    "        right_arr=arr[length//2:]\n",
    "        \n",
    "        mergesort(left_arr)\n",
    "        mergesort(right_arr)\n",
    "        \n",
    "        i=0\n",
    "        j=0\n",
    "        k=0\n",
    "        \n",
    "        while i<len(left_arr) and j<lem(right_arr):\n",
    "            if left_arr[i]<right_arr[j]:\n",
    "                arr[k]=left_arr[i]\n",
    "                i+=1\n",
    "            else:\n",
    "                arr[k]=right_arr[j]\n",
    "                j+=1\n",
    "            k+=1\n",
    "        while i<len(left_arr):\n",
    "            arr[k]=left_arr[i]\n",
    "            i+=1\n",
    "            k+=1\n",
    "        while j<len(right_arr):\n",
    "            arr[k]=right_arr[j]\n",
    "            j+=1\n",
    "            k+=1\n",
    "    return arr"
   ]
  },
  {
   "cell_type": "code",
   "execution_count": 13,
   "id": "3377c396-6242-42e2-8e72-27593e09357e",
   "metadata": {},
   "outputs": [],
   "source": [
    "def bubblesort(arr):\n",
    "    size= len(arr)\n",
    "    for i in range(size-1):\n",
    "        swapped = False\n",
    "        for j in range(size-i-1):\n",
    "            arr[j]<rr[j+1]\n",
    "            arr[j],arr[j+1]=arr[j+1],arr[j]\n",
    "            swapped=True\n",
    "        if not swapped:\n",
    "            break\n",
    "            \n",
    "            \n"
   ]
  },
  {
   "cell_type": "code",
   "execution_count": 14,
   "id": "9d34fffc-05fe-4253-bdb4-06a1873c9422",
   "metadata": {},
   "outputs": [],
   "source": [
    "def insertionsort(arr):\n",
    "    size=len(arr)\n",
    "    for i in range(1,size):\n",
    "        anchor = arr[i]\n",
    "        j=i-1\n",
    "        while j>=0 and anchor<arr[j]:\n",
    "            arr[j+1]=arr[j]\n",
    "            j=j-1\n",
    "        arr[j+1]=anchor\n",
    "        \n",
    "            "
   ]
  },
  {
   "cell_type": "code",
   "execution_count": 15,
   "id": "dce23eeb-7ca2-49b7-877a-10e7a99654c3",
   "metadata": {},
   "outputs": [],
   "source": [
    "def selectionsort(arr):\n",
    "    size = len(arr)\n",
    "    for i in range(size):\n",
    "        min_index = i\n",
    "        for j in range(min_index+1,size):\n",
    "            if arr[j]<arr[min_index]:\n",
    "                min_index=j\n",
    "        a[i],arr[min_index]=arr[min_index],arr[i]"
   ]
  },
  {
   "cell_type": "code",
   "execution_count": 16,
   "id": "ea2c3fab-a731-459f-b09a-2b5fbfd132a8",
   "metadata": {},
   "outputs": [],
   "source": [
    "def quicksort(arr):\n",
    "    length=len(arr)\n",
    "    if length<=1:\n",
    "        return arr\n",
    "    else:\n",
    "        pivot = arr.pop()\n",
    "        \n",
    "        left_arr=[]\n",
    "        right_arr=[]\n",
    "        for item in arr:\n",
    "            if item < pivot:\n",
    "                left_arr.append(item)\n",
    "            else:\n",
    "                right_arr.append(item)\n",
    "    return quicksort(left_arr)+[pivot]+quicksort(right_arr)\n"
   ]
  },
  {
   "cell_type": "code",
   "execution_count": 28,
   "id": "167469e2-d73a-45cf-9276-2662880a9fed",
   "metadata": {},
   "outputs": [],
   "source": [
    "def mergesort(arr):\n",
    "    if len(arr)>1:\n",
    "        left_arr=arr[len(arr)//2:]\n",
    "        right_arr=arr[:len(arr)//2]\n",
    "        \n",
    "        mergesort(left_arr)\n",
    "        mergesort(right_arr)\n",
    "        \n",
    "        i=0\n",
    "        j=0\n",
    "        k=0\n",
    "        \n",
    "        while i<len(left_arr) and j<len(right_arr):\n",
    "            if left_arr[i]<right_arr[j]:\n",
    "                arr[k]=left_arr[i]\n",
    "                i+=1\n",
    "            else:\n",
    "                arr[k]=right_arr[j]\n",
    "                j+=1\n",
    "            k+=1\n",
    "        while i<len(left_arr):\n",
    "            arr[k]=left_arr[i]\n",
    "            i+=1\n",
    "            k+=1\n",
    "        while j<len(right_arr):\n",
    "            arr[k]=right_arr[j]\n",
    "            j+=1\n",
    "            k+=1\n",
    "    return arr"
   ]
  },
  {
   "cell_type": "code",
   "execution_count": 29,
   "id": "16d0f0a1-acfe-4319-8337-4da2f420b37a",
   "metadata": {},
   "outputs": [
    {
     "name": "stdout",
     "output_type": "stream",
     "text": [
      "[9, 32, 62, 73, 74, 746]\n"
     ]
    }
   ],
   "source": [
    "arr=[32,62,73,746,74,9]\n",
    "mergesort(arr)\n",
    "print(arr)"
   ]
  },
  {
   "cell_type": "code",
   "execution_count": null,
   "id": "76779f94-2cf9-4b77-9817-dd3af4e25746",
   "metadata": {},
   "outputs": [],
   "source": []
  }
 ],
 "metadata": {
  "kernelspec": {
   "display_name": "Python 3 (ipykernel)",
   "language": "python",
   "name": "python3"
  },
  "language_info": {
   "codemirror_mode": {
    "name": "ipython",
    "version": 3
   },
   "file_extension": ".py",
   "mimetype": "text/x-python",
   "name": "python",
   "nbconvert_exporter": "python",
   "pygments_lexer": "ipython3",
   "version": "3.9.16"
  }
 },
 "nbformat": 4,
 "nbformat_minor": 5
}
