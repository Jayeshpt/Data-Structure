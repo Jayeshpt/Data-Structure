{
 "cells": [
  {
   "cell_type": "code",
   "execution_count": 10,
   "id": "d3c032a3-14e3-48b7-84be-ea2a70a3cf0a",
   "metadata": {},
   "outputs": [
    {
     "data": {
      "text/plain": [
       "3"
      ]
     },
     "execution_count": 10,
     "metadata": {},
     "output_type": "execute_result"
    }
   ],
   "source": [
    "6//2\n"
   ]
  },
  {
   "cell_type": "code",
   "execution_count": 12,
   "id": "387b16a2-cbe3-450f-8da9-82e98b07ddd2",
   "metadata": {},
   "outputs": [
    {
     "name": "stdout",
     "output_type": "stream",
     "text": [
      "[23, 515, 61]\n",
      "[412, 623, 44]\n",
      "[23]\n",
      "[515, 61]\n",
      "[515]\n",
      "[61]\n",
      "1\n",
      "1\n",
      "[412]\n",
      "[623, 44]\n",
      "[623]\n",
      "[44]\n",
      "1\n",
      "1\n",
      "1\n",
      "3\n",
      "3\n",
      "3\n",
      "3\n",
      "3\n",
      "[23, 44, 61, 412, 515, 623]\n"
     ]
    }
   ],
   "source": [
    "def merge_sort(arr):\n",
    "    if len(arr) > 1:\n",
    "        # Divide the array in half.\n",
    "        left_arr = arr[:len(arr) // 2]\n",
    "        right_arr = arr[len(arr) // 2:]\n",
    "        print(left_arr)\n",
    "        print(right_arr)\n",
    "        # Recursively sort the two halves.\n",
    "        merge_sort(left_arr)\n",
    "        merge_sort(right_arr)\n",
    "\n",
    "        # Merge the two sorted halves back together.\n",
    "        i = 0\n",
    "        j = 0\n",
    "        k = 0\n",
    "        while i < len(left_arr) and j < len(right_arr):\n",
    "            if left_arr[i] < right_arr[j]:\n",
    "                arr[k] = left_arr[i]\n",
    "                i += 1\n",
    "            else:\n",
    "                arr[k] = right_arr[j]\n",
    "                j += 1\n",
    "            k += 1\n",
    "\n",
    "        # Copy any remaining elements from the left array.\n",
    "        while i < len(left_arr):\n",
    "            arr[k] = left_arr[i]\n",
    "            i += 1\n",
    "            k += 1\n",
    "\n",
    "        # Copy any remaining elements from the right array.\n",
    "        while j < len(right_arr):\n",
    "            arr[k] = right_arr[j]\n",
    "            j += 1\n",
    "            k += 1\n",
    "\n",
    "    return arr\n",
    "\n",
    "\n",
    "arr = [23, 515, 61, 412, 623, 44]\n",
    "print(merge_sort(arr))\n",
    "\n"
   ]
  },
  {
   "cell_type": "code",
   "execution_count": null,
   "id": "f482f3ab-e273-4c2b-828f-73bc8196a375",
   "metadata": {},
   "outputs": [],
   "source": []
  }
 ],
 "metadata": {
  "kernelspec": {
   "display_name": "Python 3 (ipykernel)",
   "language": "python",
   "name": "python3"
  },
  "language_info": {
   "codemirror_mode": {
    "name": "ipython",
    "version": 3
   },
   "file_extension": ".py",
   "mimetype": "text/x-python",
   "name": "python",
   "nbconvert_exporter": "python",
   "pygments_lexer": "ipython3",
   "version": "3.9.16"
  }
 },
 "nbformat": 4,
 "nbformat_minor": 5
}
