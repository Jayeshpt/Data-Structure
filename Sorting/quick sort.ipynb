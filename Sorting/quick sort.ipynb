{
 "cells": [
  {
   "cell_type": "code",
   "execution_count": 9,
   "id": "2bdc6e51-da27-4304-b70b-097ee697ccfa",
   "metadata": {},
   "outputs": [
    {
     "name": "stdout",
     "output_type": "stream",
     "text": [
      "[11, 22, 33, 44, 55, 66, 77, 88]\n"
     ]
    }
   ],
   "source": [
    "def quicksort(arr,left,right):\n",
    "    if left < right:\n",
    "        partition_pos = partition(arr,left,right)\n",
    "        quicksort(arr,left,partition_pos-1)\n",
    "        quicksort(arr,partition_pos+1,right)\n",
    "        \n",
    "        \n",
    "def partition(arr,left,right):\n",
    "    i = left\n",
    "    j = right - 1\n",
    "    pivot = arr[right]\n",
    "    \n",
    "    while i<j:\n",
    "        while i<right and arr[i]<pivot:\n",
    "            i += 1\n",
    "        while j>left and arr[j]>= pivot:\n",
    "            j-=1\n",
    "        if i<j:\n",
    "            arr[i],arr[j]=arr[j],arr[i]\n",
    "    if arr[i] > pivot:\n",
    "        arr[i],arr[right] = arr[right],arr[i]\n",
    "    return i\n",
    "\n",
    "arr = [22,11,88,66,55,77,33,44]\n",
    "quicksort(arr,0,len(arr) -1)\n",
    "print(arr)\n",
    "        \n",
    "    "
   ]
  },
  {
   "cell_type": "code",
   "execution_count": 7,
   "id": "0f7f0eab-5e8c-4ab2-a676-9cd6c5f75044",
   "metadata": {},
   "outputs": [
    {
     "name": "stdout",
     "output_type": "stream",
     "text": [
      "[5, 6, 6, 7, 7, 8, 9]\n"
     ]
    }
   ],
   "source": [
    "def quick_sort(sequence):\n",
    "    length = len(sequence)\n",
    "    if length<=1:\n",
    "        return sequence\n",
    "    else:\n",
    "        pivot = sequence.pop()\n",
    "    \n",
    "    items_greater = []\n",
    "    items_lower = []\n",
    "    \n",
    "    for item in sequence:\n",
    "        if item > pivot:\n",
    "            items_greater.append(item)\n",
    "\n",
    "        else:\n",
    "            items_lower.append(item)\n",
    "            \n",
    "    return quick_sort(items_lower)+[pivot]+quick_sort(items_greater)\n",
    "\n",
    "print(quick_sort([5,6,7,8,9,7,6]))"
   ]
  },
  {
   "cell_type": "code",
   "execution_count": null,
   "id": "de72c906-75db-43f4-ba3c-b0d0ed5179d5",
   "metadata": {},
   "outputs": [],
   "source": []
  }
 ],
 "metadata": {
  "kernelspec": {
   "display_name": "Python 3 (ipykernel)",
   "language": "python",
   "name": "python3"
  },
  "language_info": {
   "codemirror_mode": {
    "name": "ipython",
    "version": 3
   },
   "file_extension": ".py",
   "mimetype": "text/x-python",
   "name": "python",
   "nbconvert_exporter": "python",
   "pygments_lexer": "ipython3",
   "version": "3.9.16"
  }
 },
 "nbformat": 4,
 "nbformat_minor": 5
}
