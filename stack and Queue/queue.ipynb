{
 "cells": [
  {
   "cell_type": "code",
   "execution_count": 5,
   "id": "5c781eba-d017-48d5-8cde-3610a241739e",
   "metadata": {},
   "outputs": [],
   "source": [
    "price =[]\n",
    "price.insert(0,10)\n",
    "price.insert(0,12)\n",
    "price.insert(0,14)\n",
    "price.insert(0,16)"
   ]
  },
  {
   "cell_type": "code",
   "execution_count": 6,
   "id": "3932a5b7-cc03-470d-a9e7-faab7ec8934d",
   "metadata": {},
   "outputs": [
    {
     "data": {
      "text/plain": [
       "[16, 14, 12, 10]"
      ]
     },
     "execution_count": 6,
     "metadata": {},
     "output_type": "execute_result"
    }
   ],
   "source": [
    "price"
   ]
  },
  {
   "cell_type": "code",
   "execution_count": 7,
   "id": "9da7c8bf-ec29-4c94-9e89-38cead915e65",
   "metadata": {},
   "outputs": [
    {
     "data": {
      "text/plain": [
       "10"
      ]
     },
     "execution_count": 7,
     "metadata": {},
     "output_type": "execute_result"
    }
   ],
   "source": [
    "price.pop()"
   ]
  },
  {
   "cell_type": "code",
   "execution_count": 8,
   "id": "4a2bb895-a545-453a-b56c-1f2199dcc9f5",
   "metadata": {},
   "outputs": [
    {
     "data": {
      "text/plain": [
       "[16, 14, 12]"
      ]
     },
     "execution_count": 8,
     "metadata": {},
     "output_type": "execute_result"
    }
   ],
   "source": [
    "price"
   ]
  },
  {
   "cell_type": "code",
   "execution_count": 9,
   "id": "c2ab323b-9d08-4bdf-ba8e-915c362667d5",
   "metadata": {},
   "outputs": [
    {
     "data": {
      "text/plain": [
       "12"
      ]
     },
     "execution_count": 9,
     "metadata": {},
     "output_type": "execute_result"
    }
   ],
   "source": [
    "price.pop()"
   ]
  },
  {
   "cell_type": "code",
   "execution_count": 10,
   "id": "8862ff23-bae7-49fe-8bd8-07c833030d9d",
   "metadata": {},
   "outputs": [],
   "source": [
    "from collections  import deque\n",
    "q=deque()"
   ]
  },
  {
   "cell_type": "code",
   "execution_count": 11,
   "id": "aee36ea7-35f1-420f-a8f9-145c3be474d5",
   "metadata": {},
   "outputs": [],
   "source": [
    "q.appendleft(1)\n",
    "q.appendleft(2)\n",
    "q.appendleft(3)\n",
    "q.appendleft(4)\n",
    "q.appendleft(5)\n",
    "q.appendleft(6)"
   ]
  },
  {
   "cell_type": "code",
   "execution_count": 12,
   "id": "17282935-fee3-444c-ace8-1859b1812c99",
   "metadata": {},
   "outputs": [
    {
     "data": {
      "text/plain": [
       "1"
      ]
     },
     "execution_count": 12,
     "metadata": {},
     "output_type": "execute_result"
    }
   ],
   "source": [
    "q.pop()"
   ]
  },
  {
   "cell_type": "code",
   "execution_count": 13,
   "id": "fed5dfed-ce1f-4d48-abb9-635e09532547",
   "metadata": {},
   "outputs": [],
   "source": [
    "from collections import deque\n",
    "\n",
    "class Queue:\n",
    "    def __init__(self):\n",
    "        self.buffer=deque()\n",
    "    \n",
    "    def enqueue(self,val):\n",
    "        self.buffer.appendleft(val)\n",
    "        \n",
    "    def dequeue(self):\n",
    "        return self.buffer.pop()\n",
    "    def is_empty(self):\n",
    "        return len(self.buffer)==0\n",
    "    def size(self):\n",
    "        return len(self.buffer)\n",
    "    def display(self):\n",
    "        print(\"Queue:\",end=\" \")\n",
    "        for element in self.buffer:\n",
    "            print(element,end=\" \")"
   ]
  },
  {
   "cell_type": "code",
   "execution_count": 14,
   "id": "47c42d21-fb61-48fe-8530-12b99b259cfd",
   "metadata": {},
   "outputs": [
    {
     "name": "stdout",
     "output_type": "stream",
     "text": [
      "Queue: 5 4 3 2 1 "
     ]
    }
   ],
   "source": [
    "pq =Queue()\n",
    "\n",
    "pq.enqueue(1)\n",
    "pq.enqueue(2)\n",
    "pq.enqueue(3)\n",
    "pq.enqueue(4)\n",
    "pq.enqueue(5)\n",
    " \n",
    "    \n",
    "pq.display()"
   ]
  },
  {
   "cell_type": "code",
   "execution_count": 16,
   "id": "4fbedf10-e32b-4796-8ac5-fb86da60dc46",
   "metadata": {},
   "outputs": [
    {
     "data": {
      "text/plain": [
       "deque([5, 4, 3, 2, 1])"
      ]
     },
     "execution_count": 16,
     "metadata": {},
     "output_type": "execute_result"
    }
   ],
   "source": [
    "pq.buffer"
   ]
  },
  {
   "cell_type": "code",
   "execution_count": 17,
   "id": "365ebb89-ec16-471a-94a6-f84a5ae814ed",
   "metadata": {},
   "outputs": [
    {
     "data": {
      "text/plain": [
       "1"
      ]
     },
     "execution_count": 17,
     "metadata": {},
     "output_type": "execute_result"
    }
   ],
   "source": [
    "pq.dequeue()"
   ]
  },
  {
   "cell_type": "code",
   "execution_count": 18,
   "id": "b5f464bd-fd84-4730-af92-f7c9dc59de5f",
   "metadata": {},
   "outputs": [
    {
     "data": {
      "text/plain": [
       "deque([5, 4, 3, 2])"
      ]
     },
     "execution_count": 18,
     "metadata": {},
     "output_type": "execute_result"
    }
   ],
   "source": [
    "pq.buffer"
   ]
  },
  {
   "cell_type": "code",
   "execution_count": null,
   "id": "41aa217f-b31a-4533-8b8a-d76e51a06fb2",
   "metadata": {},
   "outputs": [],
   "source": []
  }
 ],
 "metadata": {
  "kernelspec": {
   "display_name": "Python 3 (ipykernel)",
   "language": "python",
   "name": "python3"
  },
  "language_info": {
   "codemirror_mode": {
    "name": "ipython",
    "version": 3
   },
   "file_extension": ".py",
   "mimetype": "text/x-python",
   "name": "python",
   "nbconvert_exporter": "python",
   "pygments_lexer": "ipython3",
   "version": "3.9.16"
  }
 },
 "nbformat": 4,
 "nbformat_minor": 5
}
