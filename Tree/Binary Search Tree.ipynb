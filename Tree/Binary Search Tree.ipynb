{
 "cells": [
  {
   "cell_type": "markdown",
   "id": "a719c140-1dc9-4f31-bf30-bf70a5e56ea4",
   "metadata": {
    "jp-MarkdownHeadingCollapsed": true,
    "tags": []
   },
   "source": [
    "## Basic Binary search Tree Implementation"
   ]
  },
  {
   "cell_type": "code",
   "execution_count": 1,
   "id": "e6529016-965b-4d48-89f7-5910231c4b33",
   "metadata": {},
   "outputs": [
    {
     "name": "stdout",
     "output_type": "stream",
     "text": [
      "10\n",
      "None\n",
      "None\n"
     ]
    }
   ],
   "source": [
    "class BinarySearchTree:\n",
    "    def __init__(self,key):\n",
    "        self.key= key \n",
    "        self.lchild = None\n",
    "        self.rchild = None\n",
    "        \n",
    "        \n",
    "root = BinarySearchTree(10)\n",
    "print(root.key)\n",
    "print(root.lchild)\n",
    "print(root.rchild)"
   ]
  },
  {
   "cell_type": "code",
   "execution_count": 2,
   "id": "f0c3a5d9-2ef0-4c19-ae8e-fa6d272a92e1",
   "metadata": {},
   "outputs": [
    {
     "name": "stdout",
     "output_type": "stream",
     "text": [
      "5\n",
      "None\n",
      "None\n"
     ]
    }
   ],
   "source": [
    "root.lchild = BinarySearchTree(5)\n",
    "print(root.lchild.key)\n",
    "print(root.lchild.lchild)\n",
    "print(root.lchild.rchild)"
   ]
  },
  {
   "cell_type": "markdown",
   "id": "9fe34bf0-120f-4666-8f62-1c3618c8f2d5",
   "metadata": {
    "jp-MarkdownHeadingCollapsed": true,
    "tags": []
   },
   "source": [
    "## Insertion of  Binary Search Tree "
   ]
  },
  {
   "cell_type": "code",
   "execution_count": 5,
   "id": "c608c10b-cd7a-4cf2-b10b-93060a6e930f",
   "metadata": {},
   "outputs": [
    {
     "name": "stdout",
     "output_type": "stream",
     "text": [
      "Node is not present in Tree:\n"
     ]
    }
   ],
   "source": [
    "class BinarysearchTree:\n",
    "    def __init__(self,key):\n",
    "        self.key = key\n",
    "        self.lchild = None\n",
    "        self.rchild = None\n",
    "        \n",
    "    def insert(self,data):\n",
    "        if self.key is None:\n",
    "            self.key = data\n",
    "            return \n",
    "        \n",
    "        # to ignore duplicate\n",
    "        if self.key == data:\n",
    "            return\n",
    "        \n",
    "        if self.key > data :\n",
    "            if self.lchild:\n",
    "                self.lchild.insert(data)\n",
    "            else:\n",
    "                self.lchild = BinarysearchTree(data)\n",
    "        else:\n",
    "            if self.rchild:\n",
    "                self.rchild.insert(data)\n",
    "            else:\n",
    "                self.rchild = BinarysearchTree(data)\n",
    "                \n",
    "                \n",
    "    def search(self,data):\n",
    "        if self.key == data:\n",
    "            print(\"Node is found:\")\n",
    "            return \n",
    "        if data < self.key:\n",
    "            if  self.lchild:\n",
    "                self.lchild.search(data)\n",
    "            else:\n",
    "                print(\"Node is Not present in Tree:\")\n",
    "        else:\n",
    "            if self.rchild:\n",
    "                self.rchild.search(data)\n",
    "            else:\n",
    "                print(\"Node is not present in Tree:\")\n",
    "                \n",
    "root = BinarysearchTree(10)\n",
    "list1 = [6,3,1,6,98,3,7]\n",
    "for i in list1:\n",
    "    root.insert(i)\n",
    "    \n",
    "root.search(9)"
   ]
  },
  {
   "cell_type": "code",
   "execution_count": 9,
   "id": "a0467659-4c9a-4684-9834-7d4931a136eb",
   "metadata": {},
   "outputs": [],
   "source": [
    "class binaryTree:\n",
    "    def __init__(self,key):\n",
    "        self.key = key\n",
    "        self.lchild = None \n",
    "        self.rchild = None\n",
    "        \n",
    "    def insert(self,data):\n",
    "        if self.key is None:\n",
    "            self.key  = data\n",
    "            return\n",
    "        \n",
    "        if self.key == data:\n",
    "            return\n",
    "        \n",
    "        if self.key > data:\n",
    "            if self.lchild:\n",
    "                self.lchild.insert(data)\n",
    "            else:\n",
    "                self.lchild = binaryTree(data)\n",
    "        else:\n",
    "            if self.rchild :\n",
    "                self.rchild.insert(data)\n",
    "            else:\n",
    "                self.rchild = binaryTree(data)\n",
    "                \n",
    "                \n",
    "    def search(self,data):\n",
    "        if self.key == data :\n",
    "            print(\"Element is found\")\n",
    "            return\n",
    "        if self.key > data:\n",
    "            if self.lchild:\n",
    "                self.lchild.search(data)\n",
    "            else:\n",
    "                print(\"element is not found\")\n",
    "                      \n",
    "        else:\n",
    "            if self.rchild:\n",
    "                self.rchild.search(data)\n",
    "            else:\n",
    "                print(\"element is not found\")\n",
    "                \n",
    "                \n",
    "                \n",
    "                \n",
    "    def delet(self,data):\n",
    "        if self.key is None:\n",
    "            print(\"Tree is empty\")\n",
    "            return\n",
    "        if self.key == data:\n",
    "            \n",
    "        \n",
    "        \n",
    "        \n",
    "        \n",
    "root = binaryTree(10)\n",
    "\n",
    "listt = [5,7,4,3,6]\n",
    "for i in listt:\n",
    "    root.insert(i)"
   ]
  },
  {
   "cell_type": "code",
   "execution_count": 10,
   "id": "e642cae5-72c6-4529-a950-d915be14584d",
   "metadata": {},
   "outputs": [
    {
     "name": "stdout",
     "output_type": "stream",
     "text": [
      "Element is found\n"
     ]
    }
   ],
   "source": [
    "root.search(7)"
   ]
  },
  {
   "cell_type": "markdown",
   "id": "939f9fe6-f844-4fa7-9f16-1cc2675e1f80",
   "metadata": {
    "tags": []
   },
   "source": [
    "## Traversing Algorithms In Binary Search Tree\n",
    "\n",
    "### 1. Pre Order\n",
    "### 2. In Order\n",
    "### 3. Post Order"
   ]
  },
  {
   "cell_type": "markdown",
   "id": "789f0153-922b-41eb-a40d-83e4ad048037",
   "metadata": {},
   "source": [
    "-----------------------------"
   ]
  },
  {
   "cell_type": "markdown",
   "id": "82e8fe26-5a0e-46f4-99ff-4d373b6656c3",
   "metadata": {
    "jp-MarkdownHeadingCollapsed": true,
    "tags": []
   },
   "source": [
    "#### Pre Order"
   ]
  },
  {
   "cell_type": "code",
   "execution_count": 9,
   "id": "dc0767ca-67a0-4368-aa4b-f872891005c9",
   "metadata": {},
   "outputs": [
    {
     "name": "stdout",
     "output_type": "stream",
     "text": [
      "10\n",
      "1\n",
      "2\n",
      "3\n",
      "6\n",
      "7\n",
      "85\n",
      "55\n",
      "11\n",
      "43\n"
     ]
    }
   ],
   "source": [
    "class BinarySearchTree:\n",
    "    def __init__(self, key):\n",
    "        self.key = key\n",
    "        self.lchild = None\n",
    "        self.rchild = None\n",
    "        \n",
    "    def insert(self, data):\n",
    "        if self.key is None:\n",
    "            self.key = data\n",
    "            return\n",
    "        if self.key > data:\n",
    "            if self.lchild:\n",
    "                self.lchild.insert(data)\n",
    "            else:\n",
    "                self.lchild = BinarySearchTree(data)\n",
    "        else:\n",
    "            if self.rchild:\n",
    "                self.rchild.insert(data)\n",
    "            else:\n",
    "                self.rchild = BinarySearchTree(data)\n",
    "                \n",
    "    def search(self, data):\n",
    "        if self.key == data:\n",
    "            print(\"Element is found\")\n",
    "            return\n",
    "        if self.key > data:\n",
    "            if self.lchild:\n",
    "                self.lchild.search(data)\n",
    "            else:\n",
    "                print(\"Element is not found\")\n",
    "        else:\n",
    "            if self.rchild:\n",
    "                self.rchild.search(data)\n",
    "            else:\n",
    "                print(\"Element is not found\")\n",
    "                \n",
    "    def preorder(self):\n",
    "        print(self.key)\n",
    "        if self.lchild:\n",
    "            self.lchild.preorder()\n",
    "        if self.rchild:\n",
    "            self.rchild.preorder()\n",
    "     \n",
    "        \n",
    "        \n",
    "        \n",
    "        \n",
    "        \n",
    "        \n",
    "        \n",
    "        \n",
    "        \n",
    "root = BinarySearchTree(10)\n",
    "list1 = [1, 2, 3, 6, 85, 7, 55, 11, 43]\n",
    "for i in list1:\n",
    "    root.insert(i)\n",
    "\n",
    "root.preorder()"
   ]
  },
  {
   "cell_type": "markdown",
   "id": "16a0d270-4961-4e9f-a7dd-5256b42c46b0",
   "metadata": {
    "jp-MarkdownHeadingCollapsed": true,
    "tags": []
   },
   "source": [
    "#### In Order Traversing"
   ]
  },
  {
   "cell_type": "code",
   "execution_count": 14,
   "id": "64a311a0-57c1-4198-8dfa-5edcb70562da",
   "metadata": {},
   "outputs": [
    {
     "name": "stdout",
     "output_type": "stream",
     "text": [
      "inorder\n",
      "5 12 13 14 30 43 55 67 78 832 "
     ]
    }
   ],
   "source": [
    "class BinarysearchTree:\n",
    "    def __init__(self,key):\n",
    "        self.key = key\n",
    "        self.lchild = None\n",
    "        self.rchild = None\n",
    "    def insert(self,data):\n",
    "        if self.key is None:\n",
    "            self.key == data\n",
    "            return\n",
    "        if self.key == data:\n",
    "            return\n",
    "        if self.key > data:\n",
    "            if self.lchild:\n",
    "                self.lchild.insert(data)\n",
    "            else:\n",
    "                self.lchild = BinarysearchTree(data)\n",
    "                \n",
    "        else:\n",
    "            if self.rchild:\n",
    "                self.rchild.insert(data)\n",
    "            else:\n",
    "                self.rchild = BinarysearchTree(data)\n",
    "    def search(self,data):\n",
    "        if self.key == data:\n",
    "            print(\"element is found\")\n",
    "            return\n",
    "        if self.key > data:\n",
    "            if self.lchild:\n",
    "                self.lchild.search(data)\n",
    "            else:\n",
    "                print(\"element not found\")\n",
    "        else:\n",
    "            if self.rchild:\n",
    "                self.rchild.search(data)\n",
    "            else:\n",
    "                print(\"element is not found\")\n",
    "                \n",
    "    def inorder(self):\n",
    "        \n",
    "        if self.lchild:\n",
    "            self.lchild.inorder()\n",
    "        print(self.key,end = \" \")\n",
    "        \n",
    "        if self.rchild:\n",
    "            self.rchild.inorder()\n",
    "        \n",
    "root = BinarysearchTree(30)\n",
    "datas = [12,14,5,55,67,78,43,832,13]\n",
    "for i in datas:\n",
    "    root.insert(i)\n",
    "print(\"inorder\")  \n",
    "root.inorder()"
   ]
  },
  {
   "cell_type": "markdown",
   "id": "5bb3fe76-9357-42d6-901f-7be6af3eb6cf",
   "metadata": {
    "jp-MarkdownHeadingCollapsed": true,
    "tags": []
   },
   "source": [
    "#### Post order Treversing"
   ]
  },
  {
   "cell_type": "code",
   "execution_count": 15,
   "id": "1534b388-9fb4-4951-b593-e89f5685f400",
   "metadata": {},
   "outputs": [
    {
     "name": "stdout",
     "output_type": "stream",
     "text": [
      "Post order\n",
      "5 13 14 12 43 832 78 67 55 30 "
     ]
    }
   ],
   "source": [
    "class BinarysearchTree:\n",
    "    def __init__(self,key):\n",
    "        self.key = key\n",
    "        self.lchild = None\n",
    "        self.rchild = None\n",
    "    def insert(self,data):\n",
    "        if self.key is None:\n",
    "            self.key == data\n",
    "            return\n",
    "        if self.key == data:\n",
    "            return\n",
    "        if self.key > data:\n",
    "            if self.lchild:\n",
    "                self.lchild.insert(data)\n",
    "            else:\n",
    "                self.lchild = BinarysearchTree(data)\n",
    "                \n",
    "        else:\n",
    "            if self.rchild:\n",
    "                self.rchild.insert(data)\n",
    "            else:\n",
    "                self.rchild = BinarysearchTree(data)\n",
    "    def search(self,data):\n",
    "        if self.key == data:\n",
    "            print(\"element is found\")\n",
    "            return\n",
    "        if self.key > data:\n",
    "            if self.lchild:\n",
    "                self.lchild.search(data)\n",
    "            else:\n",
    "                print(\"element not found\")\n",
    "        else:\n",
    "            if self.rchild:\n",
    "                self.rchild.search(data)\n",
    "            else:\n",
    "                print(\"element is not found\")\n",
    "                \n",
    "    def postorder(self):\n",
    "        \n",
    "        if self.lchild:\n",
    "            self.lchild.postorder()\n",
    "        \n",
    "        if self.rchild:\n",
    "            self.rchild.postorder()\n",
    "        print(self.key,end = \" \")\n",
    "        \n",
    "root = BinarysearchTree(30)\n",
    "datas = [12,14,5,55,67,78,43,832,13]\n",
    "for i in datas:\n",
    "    root.insert(i)\n",
    "print(\"Post order\")  \n",
    "root.postorder()"
   ]
  },
  {
   "cell_type": "markdown",
   "id": "e106fde6-7a1f-4060-95a0-745ef8ecdfee",
   "metadata": {},
   "source": [
    "## Deletion "
   ]
  },
  {
   "cell_type": "code",
   "execution_count": null,
   "id": "f7a07e66-3fec-46b1-bf69-dab3e23d8f93",
   "metadata": {},
   "outputs": [],
   "source": [
    "class BinarySearchTree:\n",
    "    def __init__(self, key):\n",
    "        self.key = key\n",
    "        self.lchild = None\n",
    "        self.rchild = None\n",
    "        \n",
    "    def insert(self, data):\n",
    "        if self.key is None:\n",
    "            self.key = data\n",
    "            return\n",
    "        if self.key > data:\n",
    "            if self.lchild:\n",
    "                self.lchild.insert(data)\n",
    "            else:\n",
    "                self.lchild = BinarySearchTree(data)\n",
    "        else:\n",
    "            if self.rchild:\n",
    "                self.rchild.insert(data)\n",
    "            else:\n",
    "                self.rchild = BinarySearchTree(data)\n",
    "                \n",
    "    def search(self, data):\n",
    "        if self.key == data:\n",
    "            print(\"Element is found\")\n",
    "            return\n",
    "        if self.key > data:\n",
    "            if self.lchild:\n",
    "                self.lchild.search(data)\n",
    "            else:\n",
    "                print(\"Element is not found\")\n",
    "        else:\n",
    "            if self.rchild:\n",
    "                self.rchild.search(data)\n",
    "            else:\n",
    "                print(\"Element is not found\")\n",
    "                \n",
    "    def preorder(self):\n",
    "        print(self.key)\n",
    "        if self.lchild:\n",
    "            self.lchild.preorder()\n",
    "        if self.rchild:\n",
    "            self.rchild.preorder()\n",
    "     \n",
    "        \n",
    "    def delete(self,data):\n",
    "        if self.key is None:\n",
    "            print(\"Tree is empty\")\n",
    "            return\n",
    "        if self.key > data:\n",
    "            if self.lchild:\n",
    "                self.lchild.delete(data):\n",
    "            else:\n",
    "                print(\"Element is not in Tree\")\n",
    "        elif:\n",
    "            if self.rchild:\n",
    "                self.rchild.delete(data):\n",
    "            else:\n",
    "                print(\"Element is not in Tree\")\n",
    "        else:\n",
    "            if self.lchild is None:\n",
    "                temp = self.rchild\n",
    "                self = None\n",
    "                return temp\n",
    "            if self.rchild is None:\n",
    "                temp = self.lchild\n",
    "                self = None\n",
    "                return temp\n",
    "            node = self.rchild\n",
    "            while node.lchild:\n",
    "                node = node.lchild\n",
    "                \n",
    "            self.key = node.key\n",
    "            self.rchild = self.rchild.delete(node.key)\n",
    "        return self\n",
    "            \n",
    "        \n",
    "        \n",
    "        \n",
    "        \n",
    "        \n",
    "root = BinarySearchTree(10)\n",
    "list1 = [1, 2, 3, 6, 85, 7, 55, 11, 43]\n",
    "for i in list1:\n",
    "    root.insert(i)\n",
    "\n"
   ]
  }
 ],
 "metadata": {
  "kernelspec": {
   "display_name": "Python 3 (ipykernel)",
   "language": "python",
   "name": "python3"
  },
  "language_info": {
   "codemirror_mode": {
    "name": "ipython",
    "version": 3
   },
   "file_extension": ".py",
   "mimetype": "text/x-python",
   "name": "python",
   "nbconvert_exporter": "python",
   "pygments_lexer": "ipython3",
   "version": "3.9.13"
  }
 },
 "nbformat": 4,
 "nbformat_minor": 5
}
