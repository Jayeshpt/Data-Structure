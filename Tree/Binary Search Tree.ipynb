{
 "cells": [
  {
   "cell_type": "markdown",
   "id": "a719c140-1dc9-4f31-bf30-bf70a5e56ea4",
   "metadata": {
    "tags": []
   },
   "source": [
    "## Basic Binary search Tree Implementation"
   ]
  },
  {
   "cell_type": "code",
   "execution_count": 1,
   "id": "e6529016-965b-4d48-89f7-5910231c4b33",
   "metadata": {},
   "outputs": [
    {
     "name": "stdout",
     "output_type": "stream",
     "text": [
      "10\n",
      "None\n",
      "None\n"
     ]
    }
   ],
   "source": [
    "class BinarySearchTree:\n",
    "    def __init__(self,key):\n",
    "        self.key= key \n",
    "        self.lchild = None\n",
    "        self.rchild = None\n",
    "        \n",
    "        \n",
    "root = BinarySearchTree(10)\n",
    "print(root.key)\n",
    "print(root.lchild)\n",
    "print(root.rchild)"
   ]
  },
  {
   "cell_type": "code",
   "execution_count": 2,
   "id": "f0c3a5d9-2ef0-4c19-ae8e-fa6d272a92e1",
   "metadata": {},
   "outputs": [
    {
     "name": "stdout",
     "output_type": "stream",
     "text": [
      "5\n",
      "None\n",
      "None\n"
     ]
    }
   ],
   "source": [
    "root.lchild = BinarySearchTree(5)\n",
    "print(root.lchild.key)\n",
    "print(root.lchild.lchild)\n",
    "print(root.lchild.rchild)"
   ]
  },
  {
   "cell_type": "markdown",
   "id": "9fe34bf0-120f-4666-8f62-1c3618c8f2d5",
   "metadata": {},
   "source": [
    "## Insertion of  Binary Search Tree "
   ]
  },
  {
   "cell_type": "code",
   "execution_count": 5,
   "id": "c608c10b-cd7a-4cf2-b10b-93060a6e930f",
   "metadata": {},
   "outputs": [
    {
     "name": "stdout",
     "output_type": "stream",
     "text": [
      "Node is not present in Tree:\n"
     ]
    }
   ],
   "source": [
    "class BinarysearchTree:\n",
    "    def __init__(self,key):\n",
    "        self.key = key\n",
    "        self.lchild = None\n",
    "        self.rchild = None\n",
    "        \n",
    "    def insert(self,data):\n",
    "        if self.key is None:\n",
    "            self.key = data\n",
    "            return \n",
    "        \n",
    "        # to ignore duplicate\n",
    "        if self.key == data:\n",
    "            return\n",
    "        \n",
    "        if self.key > data :\n",
    "            if self.lchild:\n",
    "                self.lchild.insert(data)\n",
    "            else:\n",
    "                self.lchild = BinarysearchTree(data)\n",
    "        else:\n",
    "            if self.rchild:\n",
    "                self.rchild.insert(data)\n",
    "            else:\n",
    "                self.rchild = BinarysearchTree(data)\n",
    "                \n",
    "                \n",
    "    def search(self,data):\n",
    "        if self.key == data:\n",
    "            print(\"Node is found:\")\n",
    "            return \n",
    "        if data < self.key:\n",
    "            if  self.lchild:\n",
    "                self.lchild.search(data)\n",
    "            else:\n",
    "                print(\"Node is Not present in Tree:\")\n",
    "        else:\n",
    "            if self.rchild:\n",
    "                self.rchild.search(data)\n",
    "            else:\n",
    "                print(\"Node is not present in Tree:\")\n",
    "                \n",
    "root = BinarysearchTree(10)\n",
    "list1 = [6,3,1,6,98,3,7]\n",
    "for i in list1:\n",
    "    root.insert(i)\n",
    "    \n",
    "root.search(9)"
   ]
  },
  {
   "cell_type": "code",
   "execution_count": 9,
   "id": "a0467659-4c9a-4684-9834-7d4931a136eb",
   "metadata": {},
   "outputs": [],
   "source": [
    "class binaryTree:\n",
    "    def __init__(self,key):\n",
    "        self.key = key\n",
    "        self.lchild = None \n",
    "        self.rchild = None\n",
    "        \n",
    "    def insert(self,data):\n",
    "        if self.key is None:\n",
    "            self.key  = data\n",
    "            return\n",
    "        \n",
    "        if self.key == data:\n",
    "            return\n",
    "        \n",
    "        if self.key > data:\n",
    "            if self.lchild:\n",
    "                self.lchild.insert(data)\n",
    "            else:\n",
    "                self.lchild = binaryTree(data)\n",
    "        else:\n",
    "            if self.rchild :\n",
    "                self.rchild.insert(data)\n",
    "            else:\n",
    "                self.rchild = binaryTree(data)\n",
    "                \n",
    "                \n",
    "    def search(self,data):\n",
    "        if self.key == data :\n",
    "            print(\"Element is found\")\n",
    "            return\n",
    "        if self.key > data:\n",
    "            if self.lchild:\n",
    "                self.lchild.search(data)\n",
    "            else:\n",
    "                print(\"element is not found\")\n",
    "                      \n",
    "        else:\n",
    "            if self.rchild:\n",
    "                self.rchild.search(data)\n",
    "            else:\n",
    "                print(\"element is not found\")\n",
    "root = binaryTree(10)\n",
    "\n",
    "listt = [5,7,4,3,6]\n",
    "for i in listt:\n",
    "    root.insert(i)"
   ]
  },
  {
   "cell_type": "code",
   "execution_count": 10,
   "id": "e642cae5-72c6-4529-a950-d915be14584d",
   "metadata": {},
   "outputs": [
    {
     "name": "stdout",
     "output_type": "stream",
     "text": [
      "Element is found\n"
     ]
    }
   ],
   "source": [
    "root.search(7)"
   ]
  },
  {
   "cell_type": "code",
   "execution_count": null,
   "id": "2ee38000-edeb-40c5-ab01-25a500dc3f39",
   "metadata": {},
   "outputs": [],
   "source": []
  }
 ],
 "metadata": {
  "kernelspec": {
   "display_name": "Python 3 (ipykernel)",
   "language": "python",
   "name": "python3"
  },
  "language_info": {
   "codemirror_mode": {
    "name": "ipython",
    "version": 3
   },
   "file_extension": ".py",
   "mimetype": "text/x-python",
   "name": "python",
   "nbconvert_exporter": "python",
   "pygments_lexer": "ipython3",
   "version": "3.9.16"
  }
 },
 "nbformat": 4,
 "nbformat_minor": 5
}
