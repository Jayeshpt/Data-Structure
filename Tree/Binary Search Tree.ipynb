{
 "cells": [
  {
   "cell_type": "markdown",
   "id": "a719c140-1dc9-4f31-bf30-bf70a5e56ea4",
   "metadata": {
    "tags": []
   },
   "source": [
    "## Basic Binary search Tree Implementation"
   ]
  },
  {
   "cell_type": "code",
   "execution_count": 1,
   "id": "e6529016-965b-4d48-89f7-5910231c4b33",
   "metadata": {},
   "outputs": [
    {
     "name": "stdout",
     "output_type": "stream",
     "text": [
      "10\n",
      "None\n",
      "None\n"
     ]
    }
   ],
   "source": [
    "class BinarySearchTree:\n",
    "    def __init__(self,key):\n",
    "        self.key= key \n",
    "        self.lchild = None\n",
    "        self.rchild = None\n",
    "        \n",
    "        \n",
    "root = BinarySearchTree(10)\n",
    "print(root.key)\n",
    "print(root.lchild)\n",
    "print(root.rchild)"
   ]
  },
  {
   "cell_type": "code",
   "execution_count": 2,
   "id": "f0c3a5d9-2ef0-4c19-ae8e-fa6d272a92e1",
   "metadata": {},
   "outputs": [
    {
     "name": "stdout",
     "output_type": "stream",
     "text": [
      "5\n",
      "None\n",
      "None\n"
     ]
    }
   ],
   "source": [
    "root.lchild = BinarySearchTree(5)\n",
    "print(root.lchild.key)\n",
    "print(root.lchild.lchild)\n",
    "print(root.lchild.rchild)"
   ]
  },
  {
   "cell_type": "markdown",
   "id": "9fe34bf0-120f-4666-8f62-1c3618c8f2d5",
   "metadata": {},
   "source": [
    "## Insertion of  Binary Search Tree "
   ]
  },
  {
   "cell_type": "code",
   "execution_count": null,
   "id": "c608c10b-cd7a-4cf2-b10b-93060a6e930f",
   "metadata": {},
   "outputs": [],
   "source": [
    "class BinarySearchTree:\n",
    "    def __init__(self,key):\n",
    "        self.key = key\n",
    "        self.lchild = None\n",
    "        self.rchild = None\n",
    "        \n",
    "    def insertion(self,data):\n",
    "        if self.key is None:\n",
    "            self.key = data\n",
    "            return\n",
    "        if self.key > data:\n",
    "            "
   ]
  }
 ],
 "metadata": {
  "kernelspec": {
   "display_name": "Python 3 (ipykernel)",
   "language": "python",
   "name": "python3"
  },
  "language_info": {
   "codemirror_mode": {
    "name": "ipython",
    "version": 3
   },
   "file_extension": ".py",
   "mimetype": "text/x-python",
   "name": "python",
   "nbconvert_exporter": "python",
   "pygments_lexer": "ipython3",
   "version": "3.9.16"
  }
 },
 "nbformat": 4,
 "nbformat_minor": 5
}
