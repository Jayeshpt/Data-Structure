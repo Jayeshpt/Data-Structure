{
 "cells": [
  {
   "cell_type": "code",
   "execution_count": 7,
   "id": "bf657ef1-e4dd-4340-9217-91ae9493bcef",
   "metadata": {},
   "outputs": [
    {
     "name": "stdout",
     "output_type": "stream",
     "text": [
      "20 10 5 1 2 4 33 56 "
     ]
    }
   ],
   "source": [
    "class BinarysearchTree:\n",
    "    def __init__(self,key):\n",
    "        self.key = key\n",
    "        self.lchild = None\n",
    "        self.rchild = None\n",
    "        \n",
    "    def insert(self,data):\n",
    "        if self.key is None:\n",
    "            self.key = data\n",
    "            return\n",
    "        \n",
    "        if self.key == data:\n",
    "            return\n",
    "        if self.key > data:\n",
    "            if self.lchild:\n",
    "                self.lchild.insert(data)\n",
    "            else:\n",
    "                self.lchild = BinarysearchTree(data)\n",
    "        else:\n",
    "            if self.rchild:\n",
    "                self.rchild.insert(data)\n",
    "            else:\n",
    "                self.rchild = BinarysearchTree(data)\n",
    "                \n",
    "    def search(self,data):\n",
    "        if self.key == data:\n",
    "            print(\"element is found\")\n",
    "        if self.key>data:\n",
    "            if self.lchild:\n",
    "                self.lchild.search(data)\n",
    "            else:\n",
    "                print(\"element is not found\")\n",
    "        else:\n",
    "            if self.rchild:\n",
    "                self.rchild.search(data)\n",
    "            else:\n",
    "                self.rchild = BinarysearchTree(data)\n",
    "                \n",
    "                \n",
    "                \n",
    "    def preorder(self):\n",
    "        print(self.key,end = \" \")\n",
    "        if self.lchild:\n",
    "            self.lchild.preorder()\n",
    "        if self.rchild:\n",
    "            self.rchild.preorder()\n",
    "                \n",
    "                \n",
    "                \n",
    "root  = BinarysearchTree(20)       \n",
    "list1 = [10,33,5,56,1,2,4]\n",
    "for i in list1:\n",
    "    root.insert(i)\n",
    "root.preorder()\n",
    "                \n",
    "                \n",
    "                \n",
    "                \n",
    "                \n",
    "                \n",
    "                \n",
    "                "
   ]
  },
  {
   "cell_type": "markdown",
   "id": "b42d615f-6fdb-44df-a463-129ca6b241c3",
   "metadata": {},
   "source": []
  },
  {
   "cell_type": "code",
   "execution_count": null,
   "id": "986a60a7-e253-4765-9551-56ebb887092d",
   "metadata": {},
   "outputs": [],
   "source": []
  }
 ],
 "metadata": {
  "kernelspec": {
   "display_name": "Python 3 (ipykernel)",
   "language": "python",
   "name": "python3"
  },
  "language_info": {
   "codemirror_mode": {
    "name": "ipython",
    "version": 3
   },
   "file_extension": ".py",
   "mimetype": "text/x-python",
   "name": "python",
   "nbconvert_exporter": "python",
   "pygments_lexer": "ipython3",
   "version": "3.9.16"
  }
 },
 "nbformat": 4,
 "nbformat_minor": 5
}
