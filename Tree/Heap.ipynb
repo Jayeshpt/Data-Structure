{
 "cells": [
  {
   "cell_type": "code",
   "execution_count": 19,
   "id": "4a5d7db0-5115-4640-aa5a-3f4eb72f636c",
   "metadata": {},
   "outputs": [
    {
     "name": "stdout",
     "output_type": "stream",
     "text": [
      "1 9 8 7 6 5 \n",
      "Sorted array is: [1, 5, 6, 7, 8, 9]\n",
      "1 9 5 7 6 "
     ]
    }
   ],
   "source": [
    "class MinHeap:\n",
    "    def __init__(self):\n",
    "        self.heap = []\n",
    "        self.size = 0\n",
    "\n",
    "    def parent(self, i):\n",
    "        return (i - 1) // 20\n",
    "\n",
    "    def left_child(self, i):\n",
    "        return 2 * i + 1\n",
    "\n",
    "    def right_child(self, i):\n",
    "        return 2 * i + 2\n",
    "\n",
    "    def swap(self, i, j):\n",
    "        self.heap[i], self.heap[j] = self.heap[j], self.heap[i]\n",
    "\n",
    "    def insert(self, value):\n",
    "        self.heap.append(value)\n",
    "        self.size += 1\n",
    "        self.heapify_up(self.size - 1)\n",
    "\n",
    "    def heapify_up(self, i):\n",
    "        while i > 0 and self.heap[i] < self.heap[self.parent(i)]:\n",
    "            self.swap(i, self.parent(i))\n",
    "            i = self.parent(i)\n",
    "\n",
    "    def heapify_down(self, i, n):\n",
    "        min_index = i\n",
    "        left = self.left_child(i)\n",
    "        right = self.right_child(i)\n",
    "\n",
    "        if left < n and self.heap[left] < self.heap[min_index]:\n",
    "            min_index = left\n",
    "\n",
    "        if right < n and self.heap[right] < self.heap[min_index]:\n",
    "            min_index = right\n",
    "\n",
    "        if min_index != i:\n",
    "            self.swap(i, min_index)\n",
    "            self.heapify_down(min_index, n)\n",
    "\n",
    "    def remove_min(self):\n",
    "        if self.size == 0:\n",
    "            return None\n",
    "        min_value = self.heap[0]\n",
    "        self.heap[0] = self.heap[self.size - 1]\n",
    "        self.size -= 1\n",
    "        self.heap.pop()\n",
    "        self.heapify_down(0, self.size)\n",
    "        return min_value\n",
    "\n",
    "    def build_heap(self, arr):\n",
    "        for i in arr:\n",
    "            \n",
    "            self.insert(i)\n",
    "\n",
    "    def heap_sort(self):\n",
    "        sorted_arr = []\n",
    "        while self.size > 0:\n",
    "            sorted_arr.append(self.remove_min())\n",
    "        return sorted_arr\n",
    "    def print_heap(self):\n",
    "        \n",
    "        for i in range(len(self.heap)):\n",
    "            print(self.heap[i],end=' ')\n",
    "    def delete_per(self,value):\n",
    "        if not self.heap:\n",
    "            return None\n",
    "        indx = self.heap.index(value)\n",
    "        self.heap[indx],self.heap[-1]=self.heap[-1],self.heap[indx]\n",
    "        self.heap.pop()\n",
    "        self.heapify_up(indx)\n",
    "            \n",
    "\n",
    "heap = MinHeap()\n",
    "arr = [8, 9, 7, 6, 5, 1]\n",
    "heap.build_heap(arr)\n",
    "heap.print_heap()\n",
    "# sorted_arr = heap.heap_sort()\n",
    "print(\"\\nSorted array is:\", sorted_arr)\n",
    "heap.delete_per(8)\n",
    "heap.print_heap()\n",
    "\n"
   ]
  },
  {
   "cell_type": "code",
   "execution_count": 3,
   "id": "e07b1e71-52c7-48f3-9e6a-adbf209c7ba6",
   "metadata": {},
   "outputs": [
    {
     "name": "stdout",
     "output_type": "stream",
     "text": [
      "Sorted array is: [9, 8, 7, 6, 5, 1]\n"
     ]
    }
   ],
   "source": []
  },
  {
   "cell_type": "code",
   "execution_count": 2,
   "id": "7853ab48-5978-4108-8896-cace23ae34d4",
   "metadata": {},
   "outputs": [
    {
     "data": {
      "text/plain": [
       "[3, 33, 365, 44, 562, 573]"
      ]
     },
     "execution_count": 2,
     "metadata": {},
     "output_type": "execute_result"
    }
   ],
   "source": [
    "class MinHeap:\n",
    "    def __init__(self):\n",
    "        self.heap =[]\n",
    "        self.size = 0\n",
    "    def parent(self,i):\n",
    "        return (i-1//2)\n",
    "    def leftchild(self,i):\n",
    "        return(i*2 +1)\n",
    "    def rightchild(self,i):\n",
    "        return(i*2 +2)\n",
    "    def swap(self,i,j):\n",
    "        self.heap[i],self.heap[j]=self.heap[j],self.heap[i]\n",
    "    def insert(self,value):\n",
    "        self.heap.append(value)\n",
    "        self.size +=1\n",
    "        self.heapifyup(self.size -1)\n",
    "    def heapifyup(self,i):\n",
    "        while i>0 and self.heap[i] < self.heap[self.parent(i)]:\n",
    "            self.swap(i,self.parent(i))\n",
    "            i = self.parent(i)\n",
    "    def remove_min(self):\n",
    "        if self.size==0:\n",
    "            return None\n",
    "        min_value = self.heap[0]\n",
    "        self.heap[0] = self.heap[self.size-1]\n",
    "        self.size -=1\n",
    "        self.heap.pop()\n",
    "        self.heapify_down(0,self.size)\n",
    "        return min_value\n",
    "    def heapify_down(self,i,n):\n",
    "        min_index = i\n",
    "        left = self.leftchild(i)\n",
    "        right = self.rightchild(i)\n",
    "        \n",
    "        if left < n and self.heap[left] < self.heap[min_index]:\n",
    "            min_index = left\n",
    "        if right < n and self.heap[right] < self.heap[min_index]:\n",
    "            min_index = right\n",
    "        if min_index != i:\n",
    "            self.swap(i,min_index)\n",
    "            self.heapify_down(min_index,n)\n",
    "    def build_heap(self,arr):\n",
    "        for i in arr:\n",
    "            self.insert(i)\n",
    "    def Heapsort(self):\n",
    "        sorted_arr = []\n",
    "        while self.size > 0 :\n",
    "            sorted_arr.append(self.remove_min())\n",
    "        return sorted_arr\n",
    "    \n",
    "    \n",
    "    \n",
    "arr = [3,562,365,44,573,33]\n",
    "heap = MinHeap()\n",
    "heap.build_heap(arr)\n",
    "heap.Heapsort()\n",
    "        \n",
    "        \n",
    "        \n",
    "        \n",
    "        "
   ]
  },
  {
   "cell_type": "code",
   "execution_count": 1,
   "id": "6e667a21-de81-4d17-80fb-b27e1a85f15f",
   "metadata": {},
   "outputs": [
    {
     "name": "stdout",
     "output_type": "stream",
     "text": [
      "[1, 2, 2, 3, 4, 12, 23, 23, 32, 34, 43, 234, 4324]\n"
     ]
    }
   ],
   "source": [
    "def heapyfy(array,n,i):\n",
    "    larget = i\n",
    "    left = 2*i + 1\n",
    "    right = 2*i +2\n",
    "\n",
    "    if left < n and array[left] > array[larget]:\n",
    "        larget = left\n",
    "    \n",
    "    if right < n and array[right] > array[larget]:\n",
    "        larget = right\n",
    "    \n",
    "\n",
    "    if larget != i:\n",
    "        array[larget],array[i] = array[i], array[larget]\n",
    "        heapyfy(array,n,larget)\n",
    "\n",
    "\n",
    "def heapsort(array):\n",
    "    n =len(array)\n",
    "    for i in range(n//2-1,-1,-1):\n",
    "        heapyfy(array,n,i)\n",
    "    \n",
    "    for i in range(n-1,0,-1):\n",
    "        array[i],array[0] = array[0],array[i]\n",
    "        heapyfy(array,i,0)\n",
    "    return array\n",
    "\n",
    "print(heapsort([2,34,32,2,4,4324,234,23,1,23,3,43,12]))"
   ]
  },
  {
   "cell_type": "code",
   "execution_count": null,
   "id": "dbb3bbc4-948e-4d94-9c97-df30d2c4142d",
   "metadata": {},
   "outputs": [],
   "source": []
  }
 ],
 "metadata": {
  "kernelspec": {
   "display_name": "Python 3 (ipykernel)",
   "language": "python",
   "name": "python3"
  },
  "language_info": {
   "codemirror_mode": {
    "name": "ipython",
    "version": 3
   },
   "file_extension": ".py",
   "mimetype": "text/x-python",
   "name": "python",
   "nbconvert_exporter": "python",
   "pygments_lexer": "ipython3",
   "version": "3.9.16"
  }
 },
 "nbformat": 4,
 "nbformat_minor": 5
}
