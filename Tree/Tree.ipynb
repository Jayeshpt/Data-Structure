{
 "cells": [
  {
   "cell_type": "code",
   "execution_count": 5,
   "id": "ea1d1944-4690-4c51-a57a-203d160d4ed4",
   "metadata": {},
   "outputs": [
    {
     "name": "stdout",
     "output_type": "stream",
     "text": [
      "Electronic\n",
      "   |__Laptop\n",
      "      |__Mac\n",
      "      |__Asus\n",
      "      |__MSI\n",
      "   |__TV\n",
      "      |__Samsung\n",
      "      |__LG\n",
      "      |__MI\n",
      "   |__Mobile\n",
      "      |__Iphone\n",
      "      |__Samsung\n",
      "      |__Pixel\n"
     ]
    }
   ],
   "source": [
    "class TreeNode:\n",
    "    def __init__(self,data):\n",
    "        self.data = data\n",
    "        self.children = []\n",
    "        self.parent = None\n",
    "    \n",
    "    def add_child(self,child):\n",
    "        child.parent = self\n",
    "        self.children.append(child)\n",
    "\n",
    "    def get_level(self):\n",
    "        level = 0\n",
    "        p = self.parent\n",
    "        while p:\n",
    "            level +=1\n",
    "            p=p.parent\n",
    "        return level\n",
    "    \n",
    "    def print_tree(self):\n",
    "        spaces = ' ' * self.get_level() * 3\n",
    "        prefix = spaces + '|__'if self.parent else ''\n",
    "        print(prefix + self.data)\n",
    "        if self.children:\n",
    "            for child in self.children:\n",
    "                child.print_tree()\n",
    "            \n",
    "def build_product_tree():\n",
    "    root = TreeNode(\"Electronic\")\n",
    "    \n",
    "    laptop = TreeNode(\"Laptop\")\n",
    "    laptop.add_child(TreeNode(\"Mac\"))\n",
    "    laptop.add_child(TreeNode('Asus'))\n",
    "    laptop.add_child(TreeNode('MSI'))\n",
    "    \n",
    "    TV = TreeNode(\"TV\")\n",
    "    TV.add_child(TreeNode(\"Samsung\"))\n",
    "    TV.add_child(TreeNode(\"LG\"))   \n",
    "    TV.add_child(TreeNode(\"MI\"))\n",
    "                 \n",
    "    Mobile = TreeNode(\"Mobile\")\n",
    "    Mobile.add_child(TreeNode(\"Iphone\"))\n",
    "    Mobile.add_child(TreeNode(\"Samsung\"))\n",
    "    Mobile.add_child(TreeNode(\"Pixel\"))    \n",
    "                 \n",
    "                 \n",
    "    root.add_child(laptop)\n",
    "    root.add_child(TV)\n",
    "    root.add_child(Mobile)\n",
    "                 \n",
    "    root.print_tree()\n",
    "                 \n",
    "if __name__ == '__main__':\n",
    "    build_product_tree()"
   ]
  },
  {
   "cell_type": "code",
   "execution_count": null,
   "id": "2cbac74e-a3b5-478c-a41d-e9d184e00ddf",
   "metadata": {},
   "outputs": [],
   "source": []
  }
 ],
 "metadata": {
  "kernelspec": {
   "display_name": "Python 3 (ipykernel)",
   "language": "python",
   "name": "python3"
  },
  "language_info": {
   "codemirror_mode": {
    "name": "ipython",
    "version": 3
   },
   "file_extension": ".py",
   "mimetype": "text/x-python",
   "name": "python",
   "nbconvert_exporter": "python",
   "pygments_lexer": "ipython3",
   "version": "3.9.16"
  }
 },
 "nbformat": 4,
 "nbformat_minor": 5
}
